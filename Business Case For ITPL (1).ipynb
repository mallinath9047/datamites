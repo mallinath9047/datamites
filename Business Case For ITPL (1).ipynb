{
 "cells": [
  {
   "cell_type": "markdown",
   "id": "d874b267",
   "metadata": {},
   "source": [
    "# BUSINESS CASE FOR ITSM"
   ]
  },
  {
   "cell_type": "markdown",
   "id": "86b1566a",
   "metadata": {},
   "source": [
    "# Data Science PROJECT\n",
    "# Client: ABC Tech | Category: ITSM - ML\n",
    "# Project Ref: PM-PR-0012"
   ]
  },
  {
   "cell_type": "markdown",
   "id": "0de299b1",
   "metadata": {},
   "source": [
    "# Business Case:\n",
    "* ABC Tech is an mid-size organisation operation in IT-enabled businesssegment over a decade. On an average ABC Tech receives 22-25k IT incidents/tickets , which were handled to best practice ITIL framework with incident management , problem management, change management and configuration management processes. These ITIL practices attained matured process level and a recent audit confirmed that further improvement initiatives may not yield return of investment.\n",
    "* ABC Tech management is looking for ways to improve the incident management process as recent customer survey results shows that incident management is rated as poor."
   ]
  },
  {
   "cell_type": "markdown",
   "id": "f95613f5",
   "metadata": {},
   "source": [
    "# Import Libraries"
   ]
  },
  {
   "cell_type": "code",
   "execution_count": 1,
   "id": "4830c657",
   "metadata": {},
   "outputs": [
    {
     "name": "stdout",
     "output_type": "stream",
     "text": [
      "Requirement already satisfied: scikit-learn in c:\\users\\user\\anaconda3\\lib\\site-packages (1.3.2)\n",
      "Requirement already satisfied: threadpoolctl>=2.0.0 in c:\\users\\user\\anaconda3\\lib\\site-packages (from scikit-learn) (2.2.0)\n",
      "Requirement already satisfied: joblib>=1.1.1 in c:\\users\\user\\anaconda3\\lib\\site-packages (from scikit-learn) (1.1.1)\n",
      "Requirement already satisfied: scipy>=1.5.0 in c:\\users\\user\\anaconda3\\lib\\site-packages (from scikit-learn) (1.10.0)\n",
      "Requirement already satisfied: numpy<2.0,>=1.17.3 in c:\\users\\user\\anaconda3\\lib\\site-packages (from scikit-learn) (1.23.5)\n"
     ]
    }
   ],
   "source": [
    "!pip install --upgrade scikit-learn"
   ]
  },
  {
   "cell_type": "code",
   "execution_count": 2,
   "id": "755be389",
   "metadata": {},
   "outputs": [],
   "source": [
    "# Importing the necessary libraries\n",
    "import pandas as pd\n",
    "import numpy as np\n",
    "import datetime as dt\n",
    "import matplotlib.pyplot as plt\n",
    "from sklearn.preprocessing import LabelEncoder, StandardScaler\n",
    "from sklearn.model_selection import train_test_split\n",
    "from sklearn.metrics import accuracy_score, classification_report, confusion_matrix\n",
    "import itertools\n",
    "import statsmodels.api as sm\n",
    "import joblib\n",
    "import warnings\n",
    "warnings.filterwarnings('ignore')"
   ]
  },
  {
   "cell_type": "markdown",
   "id": "f992c813",
   "metadata": {},
   "source": [
    "# Load The Dataset"
   ]
  },
  {
   "cell_type": "code",
   "execution_count": 3,
   "id": "af024de7",
   "metadata": {},
   "outputs": [
    {
     "data": {
      "text/html": [
       "<div>\n",
       "<style scoped>\n",
       "    .dataframe tbody tr th:only-of-type {\n",
       "        vertical-align: middle;\n",
       "    }\n",
       "\n",
       "    .dataframe tbody tr th {\n",
       "        vertical-align: top;\n",
       "    }\n",
       "\n",
       "    .dataframe thead th {\n",
       "        text-align: right;\n",
       "    }\n",
       "</style>\n",
       "<table border=\"1\" class=\"dataframe\">\n",
       "  <thead>\n",
       "    <tr style=\"text-align: right;\">\n",
       "      <th></th>\n",
       "      <th>CI_Name</th>\n",
       "      <th>CI_Cat</th>\n",
       "      <th>CI_Subcat</th>\n",
       "      <th>WBS</th>\n",
       "      <th>Incident_ID</th>\n",
       "      <th>Status</th>\n",
       "      <th>Impact</th>\n",
       "      <th>Urgency</th>\n",
       "      <th>Priority</th>\n",
       "      <th>number_cnt</th>\n",
       "      <th>...</th>\n",
       "      <th>Reopen_Time</th>\n",
       "      <th>Resolved_Time</th>\n",
       "      <th>Close_Time</th>\n",
       "      <th>Handle_Time_hrs</th>\n",
       "      <th>Closure_Code</th>\n",
       "      <th>No_of_Related_Interactions</th>\n",
       "      <th>Related_Interaction</th>\n",
       "      <th>No_of_Related_Incidents</th>\n",
       "      <th>No_of_Related_Changes</th>\n",
       "      <th>Related_Change</th>\n",
       "    </tr>\n",
       "  </thead>\n",
       "  <tbody>\n",
       "    <tr>\n",
       "      <th>0</th>\n",
       "      <td>SUB000508</td>\n",
       "      <td>subapplication</td>\n",
       "      <td>Web Based Application</td>\n",
       "      <td>WBS000162</td>\n",
       "      <td>IM0000004</td>\n",
       "      <td>Closed</td>\n",
       "      <td>4</td>\n",
       "      <td>4</td>\n",
       "      <td>4.0</td>\n",
       "      <td>0.601292</td>\n",
       "      <td>...</td>\n",
       "      <td>NaN</td>\n",
       "      <td>04-11-2013 13:50</td>\n",
       "      <td>04-11-2013 13:51</td>\n",
       "      <td>3,87,16,91,111</td>\n",
       "      <td>Other</td>\n",
       "      <td>1.0</td>\n",
       "      <td>SD0000007</td>\n",
       "      <td>2.0</td>\n",
       "      <td>NaN</td>\n",
       "      <td>NaN</td>\n",
       "    </tr>\n",
       "    <tr>\n",
       "      <th>1</th>\n",
       "      <td>WBA000124</td>\n",
       "      <td>application</td>\n",
       "      <td>Web Based Application</td>\n",
       "      <td>WBS000088</td>\n",
       "      <td>IM0000005</td>\n",
       "      <td>Closed</td>\n",
       "      <td>3</td>\n",
       "      <td>3</td>\n",
       "      <td>3.0</td>\n",
       "      <td>0.415050</td>\n",
       "      <td>...</td>\n",
       "      <td>02-12-2013 12:31</td>\n",
       "      <td>02-12-2013 12:36</td>\n",
       "      <td>02-12-2013 12:36</td>\n",
       "      <td>4,35,47,86,389</td>\n",
       "      <td>Software</td>\n",
       "      <td>1.0</td>\n",
       "      <td>SD0000011</td>\n",
       "      <td>1.0</td>\n",
       "      <td>NaN</td>\n",
       "      <td>NaN</td>\n",
       "    </tr>\n",
       "    <tr>\n",
       "      <th>2</th>\n",
       "      <td>DTA000024</td>\n",
       "      <td>application</td>\n",
       "      <td>Desktop Application</td>\n",
       "      <td>WBS000092</td>\n",
       "      <td>IM0000006</td>\n",
       "      <td>Closed</td>\n",
       "      <td>NS</td>\n",
       "      <td>3</td>\n",
       "      <td>NaN</td>\n",
       "      <td>0.517551</td>\n",
       "      <td>...</td>\n",
       "      <td>NaN</td>\n",
       "      <td>13-01-2014 15:12</td>\n",
       "      <td>13-01-2014 15:13</td>\n",
       "      <td>4,84,31,19,444</td>\n",
       "      <td>No error - works as designed</td>\n",
       "      <td>1.0</td>\n",
       "      <td>SD0000017</td>\n",
       "      <td>NaN</td>\n",
       "      <td>NaN</td>\n",
       "      <td>NaN</td>\n",
       "    </tr>\n",
       "    <tr>\n",
       "      <th>3</th>\n",
       "      <td>WBA000124</td>\n",
       "      <td>application</td>\n",
       "      <td>Web Based Application</td>\n",
       "      <td>WBS000088</td>\n",
       "      <td>IM0000011</td>\n",
       "      <td>Closed</td>\n",
       "      <td>4</td>\n",
       "      <td>4</td>\n",
       "      <td>4.0</td>\n",
       "      <td>0.642927</td>\n",
       "      <td>...</td>\n",
       "      <td>NaN</td>\n",
       "      <td>14-11-2013 09:31</td>\n",
       "      <td>14-11-2013 09:31</td>\n",
       "      <td>4,32,18,33,333</td>\n",
       "      <td>Operator error</td>\n",
       "      <td>1.0</td>\n",
       "      <td>SD0000025</td>\n",
       "      <td>NaN</td>\n",
       "      <td>NaN</td>\n",
       "      <td>NaN</td>\n",
       "    </tr>\n",
       "    <tr>\n",
       "      <th>4</th>\n",
       "      <td>WBA000124</td>\n",
       "      <td>application</td>\n",
       "      <td>Web Based Application</td>\n",
       "      <td>WBS000088</td>\n",
       "      <td>IM0000012</td>\n",
       "      <td>Closed</td>\n",
       "      <td>4</td>\n",
       "      <td>4</td>\n",
       "      <td>4.0</td>\n",
       "      <td>0.345258</td>\n",
       "      <td>...</td>\n",
       "      <td>NaN</td>\n",
       "      <td>08-11-2013 13:55</td>\n",
       "      <td>08-11-2013 13:55</td>\n",
       "      <td>3,38,39,03,333</td>\n",
       "      <td>Other</td>\n",
       "      <td>1.0</td>\n",
       "      <td>SD0000029</td>\n",
       "      <td>NaN</td>\n",
       "      <td>NaN</td>\n",
       "      <td>NaN</td>\n",
       "    </tr>\n",
       "    <tr>\n",
       "      <th>...</th>\n",
       "      <td>...</td>\n",
       "      <td>...</td>\n",
       "      <td>...</td>\n",
       "      <td>...</td>\n",
       "      <td>...</td>\n",
       "      <td>...</td>\n",
       "      <td>...</td>\n",
       "      <td>...</td>\n",
       "      <td>...</td>\n",
       "      <td>...</td>\n",
       "      <td>...</td>\n",
       "      <td>...</td>\n",
       "      <td>...</td>\n",
       "      <td>...</td>\n",
       "      <td>...</td>\n",
       "      <td>...</td>\n",
       "      <td>...</td>\n",
       "      <td>...</td>\n",
       "      <td>...</td>\n",
       "      <td>...</td>\n",
       "      <td>...</td>\n",
       "    </tr>\n",
       "    <tr>\n",
       "      <th>46601</th>\n",
       "      <td>SBA000464</td>\n",
       "      <td>application</td>\n",
       "      <td>Server Based Application</td>\n",
       "      <td>WBS000073</td>\n",
       "      <td>IM0047053</td>\n",
       "      <td>Closed</td>\n",
       "      <td>4</td>\n",
       "      <td>4</td>\n",
       "      <td>4.0</td>\n",
       "      <td>0.231896</td>\n",
       "      <td>...</td>\n",
       "      <td>NaN</td>\n",
       "      <td>31-03-2014 16:29</td>\n",
       "      <td>31-03-2014 16:29</td>\n",
       "      <td>0,095</td>\n",
       "      <td>Other</td>\n",
       "      <td>1.0</td>\n",
       "      <td>SD0147021</td>\n",
       "      <td>NaN</td>\n",
       "      <td>NaN</td>\n",
       "      <td>NaN</td>\n",
       "    </tr>\n",
       "    <tr>\n",
       "      <th>46602</th>\n",
       "      <td>SBA000461</td>\n",
       "      <td>application</td>\n",
       "      <td>Server Based Application</td>\n",
       "      <td>WBS000073</td>\n",
       "      <td>IM0047054</td>\n",
       "      <td>Closed</td>\n",
       "      <td>4</td>\n",
       "      <td>4</td>\n",
       "      <td>4.0</td>\n",
       "      <td>0.805153</td>\n",
       "      <td>...</td>\n",
       "      <td>NaN</td>\n",
       "      <td>31-03-2014 15:29</td>\n",
       "      <td>31-03-2014 15:29</td>\n",
       "      <td>0,428333333</td>\n",
       "      <td>User error</td>\n",
       "      <td>1.0</td>\n",
       "      <td>SD0146967</td>\n",
       "      <td>NaN</td>\n",
       "      <td>NaN</td>\n",
       "      <td>NaN</td>\n",
       "    </tr>\n",
       "    <tr>\n",
       "      <th>46603</th>\n",
       "      <td>LAP000019</td>\n",
       "      <td>computer</td>\n",
       "      <td>Laptop</td>\n",
       "      <td>WBS000091</td>\n",
       "      <td>IM0047055</td>\n",
       "      <td>Closed</td>\n",
       "      <td>5</td>\n",
       "      <td>5</td>\n",
       "      <td>5.0</td>\n",
       "      <td>0.917466</td>\n",
       "      <td>...</td>\n",
       "      <td>NaN</td>\n",
       "      <td>31-03-2014 15:32</td>\n",
       "      <td>31-03-2014 15:32</td>\n",
       "      <td>0,071666667</td>\n",
       "      <td>Hardware</td>\n",
       "      <td>1.0</td>\n",
       "      <td>SD0146982</td>\n",
       "      <td>NaN</td>\n",
       "      <td>NaN</td>\n",
       "      <td>NaN</td>\n",
       "    </tr>\n",
       "    <tr>\n",
       "      <th>46604</th>\n",
       "      <td>WBA000058</td>\n",
       "      <td>application</td>\n",
       "      <td>Web Based Application</td>\n",
       "      <td>WBS000073</td>\n",
       "      <td>IM0047056</td>\n",
       "      <td>Closed</td>\n",
       "      <td>4</td>\n",
       "      <td>4</td>\n",
       "      <td>4.0</td>\n",
       "      <td>0.701278</td>\n",
       "      <td>...</td>\n",
       "      <td>NaN</td>\n",
       "      <td>31-03-2014 15:42</td>\n",
       "      <td>31-03-2014 15:42</td>\n",
       "      <td>0,116944444</td>\n",
       "      <td>Software</td>\n",
       "      <td>1.0</td>\n",
       "      <td>SD0146986</td>\n",
       "      <td>NaN</td>\n",
       "      <td>NaN</td>\n",
       "      <td>NaN</td>\n",
       "    </tr>\n",
       "    <tr>\n",
       "      <th>46605</th>\n",
       "      <td>DCE000077</td>\n",
       "      <td>hardware</td>\n",
       "      <td>DataCenterEquipment</td>\n",
       "      <td>WBS000267</td>\n",
       "      <td>IM0047057</td>\n",
       "      <td>Closed</td>\n",
       "      <td>3</td>\n",
       "      <td>3</td>\n",
       "      <td>3.0</td>\n",
       "      <td>0.902320</td>\n",
       "      <td>...</td>\n",
       "      <td>NaN</td>\n",
       "      <td>31-03-2014 22:47</td>\n",
       "      <td>31-03-2014 22:47</td>\n",
       "      <td>0,586388889</td>\n",
       "      <td>Hardware</td>\n",
       "      <td>1.0</td>\n",
       "      <td>SD0147088</td>\n",
       "      <td>NaN</td>\n",
       "      <td>NaN</td>\n",
       "      <td>NaN</td>\n",
       "    </tr>\n",
       "  </tbody>\n",
       "</table>\n",
       "<p>46606 rows × 25 columns</p>\n",
       "</div>"
      ],
      "text/plain": [
       "         CI_Name          CI_Cat                 CI_Subcat        WBS  \\\n",
       "0      SUB000508  subapplication     Web Based Application  WBS000162   \n",
       "1      WBA000124     application     Web Based Application  WBS000088   \n",
       "2      DTA000024     application       Desktop Application  WBS000092   \n",
       "3      WBA000124     application     Web Based Application  WBS000088   \n",
       "4      WBA000124     application     Web Based Application  WBS000088   \n",
       "...          ...             ...                       ...        ...   \n",
       "46601  SBA000464     application  Server Based Application  WBS000073   \n",
       "46602  SBA000461     application  Server Based Application  WBS000073   \n",
       "46603  LAP000019        computer                    Laptop  WBS000091   \n",
       "46604  WBA000058     application     Web Based Application  WBS000073   \n",
       "46605  DCE000077        hardware       DataCenterEquipment  WBS000267   \n",
       "\n",
       "      Incident_ID  Status Impact Urgency  Priority  number_cnt  ...  \\\n",
       "0       IM0000004  Closed      4       4       4.0    0.601292  ...   \n",
       "1       IM0000005  Closed      3       3       3.0    0.415050  ...   \n",
       "2       IM0000006  Closed     NS       3       NaN    0.517551  ...   \n",
       "3       IM0000011  Closed      4       4       4.0    0.642927  ...   \n",
       "4       IM0000012  Closed      4       4       4.0    0.345258  ...   \n",
       "...           ...     ...    ...     ...       ...         ...  ...   \n",
       "46601   IM0047053  Closed      4       4       4.0    0.231896  ...   \n",
       "46602   IM0047054  Closed      4       4       4.0    0.805153  ...   \n",
       "46603   IM0047055  Closed      5       5       5.0    0.917466  ...   \n",
       "46604   IM0047056  Closed      4       4       4.0    0.701278  ...   \n",
       "46605   IM0047057  Closed      3       3       3.0    0.902320  ...   \n",
       "\n",
       "            Reopen_Time     Resolved_Time        Close_Time  Handle_Time_hrs  \\\n",
       "0                   NaN  04-11-2013 13:50  04-11-2013 13:51   3,87,16,91,111   \n",
       "1      02-12-2013 12:31  02-12-2013 12:36  02-12-2013 12:36   4,35,47,86,389   \n",
       "2                   NaN  13-01-2014 15:12  13-01-2014 15:13   4,84,31,19,444   \n",
       "3                   NaN  14-11-2013 09:31  14-11-2013 09:31   4,32,18,33,333   \n",
       "4                   NaN  08-11-2013 13:55  08-11-2013 13:55   3,38,39,03,333   \n",
       "...                 ...               ...               ...              ...   \n",
       "46601               NaN  31-03-2014 16:29  31-03-2014 16:29            0,095   \n",
       "46602               NaN  31-03-2014 15:29  31-03-2014 15:29      0,428333333   \n",
       "46603               NaN  31-03-2014 15:32  31-03-2014 15:32      0,071666667   \n",
       "46604               NaN  31-03-2014 15:42  31-03-2014 15:42      0,116944444   \n",
       "46605               NaN  31-03-2014 22:47  31-03-2014 22:47      0,586388889   \n",
       "\n",
       "                       Closure_Code No_of_Related_Interactions  \\\n",
       "0                             Other                        1.0   \n",
       "1                          Software                        1.0   \n",
       "2      No error - works as designed                        1.0   \n",
       "3                    Operator error                        1.0   \n",
       "4                             Other                        1.0   \n",
       "...                             ...                        ...   \n",
       "46601                         Other                        1.0   \n",
       "46602                    User error                        1.0   \n",
       "46603                      Hardware                        1.0   \n",
       "46604                      Software                        1.0   \n",
       "46605                      Hardware                        1.0   \n",
       "\n",
       "      Related_Interaction No_of_Related_Incidents No_of_Related_Changes  \\\n",
       "0               SD0000007                     2.0                   NaN   \n",
       "1               SD0000011                     1.0                   NaN   \n",
       "2               SD0000017                     NaN                   NaN   \n",
       "3               SD0000025                     NaN                   NaN   \n",
       "4               SD0000029                     NaN                   NaN   \n",
       "...                   ...                     ...                   ...   \n",
       "46601           SD0147021                     NaN                   NaN   \n",
       "46602           SD0146967                     NaN                   NaN   \n",
       "46603           SD0146982                     NaN                   NaN   \n",
       "46604           SD0146986                     NaN                   NaN   \n",
       "46605           SD0147088                     NaN                   NaN   \n",
       "\n",
       "      Related_Change  \n",
       "0                NaN  \n",
       "1                NaN  \n",
       "2                NaN  \n",
       "3                NaN  \n",
       "4                NaN  \n",
       "...              ...  \n",
       "46601            NaN  \n",
       "46602            NaN  \n",
       "46603            NaN  \n",
       "46604            NaN  \n",
       "46605            NaN  \n",
       "\n",
       "[46606 rows x 25 columns]"
      ]
     },
     "execution_count": 3,
     "metadata": {},
     "output_type": "execute_result"
    }
   ],
   "source": [
    "data=pd.read_csv(r'C:\\Users\\user\\Downloads\\ITSM_data.csv')\n",
    "data"
   ]
  },
  {
   "cell_type": "markdown",
   "id": "926445ec",
   "metadata": {},
   "source": [
    "# Machine Learning as way to improve ITSM processes\n",
    "### ABC Tech management recently attended Machine Learning conference on ML for ITSM.\n",
    "### Machine learning looks prospective to improve ITSM processes through prediction and automation. They came up with 4 key areas, where ML can help ITSM process in ABC Tech.\n",
    "* 1. Predicting High Priority Tickets: To predict priority 1 & 2 tickets, so that they can take preventive measures or fix the problem before it surfaces.\n",
    "* 2. Forecast the incident volume in different fields , quarterly and annual. So that they can be better prepared with resources and technology planning.\n",
    "* 3. Auto tag the tickets with right priorities and right departments so that reassigning and related delay can be reduced.\n",
    "* 4. Predict RFC (Request for change) and possible failure / misconfiguration of ITSM assets."
   ]
  },
  {
   "cell_type": "markdown",
   "id": "d841014e",
   "metadata": {},
   "source": [
    "# Basic Checks"
   ]
  },
  {
   "cell_type": "code",
   "execution_count": 4,
   "id": "dcafe342",
   "metadata": {},
   "outputs": [
    {
     "data": {
      "text/html": [
       "<div>\n",
       "<style scoped>\n",
       "    .dataframe tbody tr th:only-of-type {\n",
       "        vertical-align: middle;\n",
       "    }\n",
       "\n",
       "    .dataframe tbody tr th {\n",
       "        vertical-align: top;\n",
       "    }\n",
       "\n",
       "    .dataframe thead th {\n",
       "        text-align: right;\n",
       "    }\n",
       "</style>\n",
       "<table border=\"1\" class=\"dataframe\">\n",
       "  <thead>\n",
       "    <tr style=\"text-align: right;\">\n",
       "      <th></th>\n",
       "      <th>CI_Name</th>\n",
       "      <th>CI_Cat</th>\n",
       "      <th>CI_Subcat</th>\n",
       "      <th>WBS</th>\n",
       "      <th>Incident_ID</th>\n",
       "      <th>Status</th>\n",
       "      <th>Impact</th>\n",
       "      <th>Urgency</th>\n",
       "      <th>Priority</th>\n",
       "      <th>number_cnt</th>\n",
       "      <th>...</th>\n",
       "      <th>Reopen_Time</th>\n",
       "      <th>Resolved_Time</th>\n",
       "      <th>Close_Time</th>\n",
       "      <th>Handle_Time_hrs</th>\n",
       "      <th>Closure_Code</th>\n",
       "      <th>No_of_Related_Interactions</th>\n",
       "      <th>Related_Interaction</th>\n",
       "      <th>No_of_Related_Incidents</th>\n",
       "      <th>No_of_Related_Changes</th>\n",
       "      <th>Related_Change</th>\n",
       "    </tr>\n",
       "  </thead>\n",
       "  <tbody>\n",
       "    <tr>\n",
       "      <th>0</th>\n",
       "      <td>SUB000508</td>\n",
       "      <td>subapplication</td>\n",
       "      <td>Web Based Application</td>\n",
       "      <td>WBS000162</td>\n",
       "      <td>IM0000004</td>\n",
       "      <td>Closed</td>\n",
       "      <td>4</td>\n",
       "      <td>4</td>\n",
       "      <td>4.0</td>\n",
       "      <td>0.601292</td>\n",
       "      <td>...</td>\n",
       "      <td>NaN</td>\n",
       "      <td>04-11-2013 13:50</td>\n",
       "      <td>04-11-2013 13:51</td>\n",
       "      <td>3,87,16,91,111</td>\n",
       "      <td>Other</td>\n",
       "      <td>1.0</td>\n",
       "      <td>SD0000007</td>\n",
       "      <td>2.0</td>\n",
       "      <td>NaN</td>\n",
       "      <td>NaN</td>\n",
       "    </tr>\n",
       "    <tr>\n",
       "      <th>1</th>\n",
       "      <td>WBA000124</td>\n",
       "      <td>application</td>\n",
       "      <td>Web Based Application</td>\n",
       "      <td>WBS000088</td>\n",
       "      <td>IM0000005</td>\n",
       "      <td>Closed</td>\n",
       "      <td>3</td>\n",
       "      <td>3</td>\n",
       "      <td>3.0</td>\n",
       "      <td>0.415050</td>\n",
       "      <td>...</td>\n",
       "      <td>02-12-2013 12:31</td>\n",
       "      <td>02-12-2013 12:36</td>\n",
       "      <td>02-12-2013 12:36</td>\n",
       "      <td>4,35,47,86,389</td>\n",
       "      <td>Software</td>\n",
       "      <td>1.0</td>\n",
       "      <td>SD0000011</td>\n",
       "      <td>1.0</td>\n",
       "      <td>NaN</td>\n",
       "      <td>NaN</td>\n",
       "    </tr>\n",
       "    <tr>\n",
       "      <th>2</th>\n",
       "      <td>DTA000024</td>\n",
       "      <td>application</td>\n",
       "      <td>Desktop Application</td>\n",
       "      <td>WBS000092</td>\n",
       "      <td>IM0000006</td>\n",
       "      <td>Closed</td>\n",
       "      <td>NS</td>\n",
       "      <td>3</td>\n",
       "      <td>NaN</td>\n",
       "      <td>0.517551</td>\n",
       "      <td>...</td>\n",
       "      <td>NaN</td>\n",
       "      <td>13-01-2014 15:12</td>\n",
       "      <td>13-01-2014 15:13</td>\n",
       "      <td>4,84,31,19,444</td>\n",
       "      <td>No error - works as designed</td>\n",
       "      <td>1.0</td>\n",
       "      <td>SD0000017</td>\n",
       "      <td>NaN</td>\n",
       "      <td>NaN</td>\n",
       "      <td>NaN</td>\n",
       "    </tr>\n",
       "    <tr>\n",
       "      <th>3</th>\n",
       "      <td>WBA000124</td>\n",
       "      <td>application</td>\n",
       "      <td>Web Based Application</td>\n",
       "      <td>WBS000088</td>\n",
       "      <td>IM0000011</td>\n",
       "      <td>Closed</td>\n",
       "      <td>4</td>\n",
       "      <td>4</td>\n",
       "      <td>4.0</td>\n",
       "      <td>0.642927</td>\n",
       "      <td>...</td>\n",
       "      <td>NaN</td>\n",
       "      <td>14-11-2013 09:31</td>\n",
       "      <td>14-11-2013 09:31</td>\n",
       "      <td>4,32,18,33,333</td>\n",
       "      <td>Operator error</td>\n",
       "      <td>1.0</td>\n",
       "      <td>SD0000025</td>\n",
       "      <td>NaN</td>\n",
       "      <td>NaN</td>\n",
       "      <td>NaN</td>\n",
       "    </tr>\n",
       "    <tr>\n",
       "      <th>4</th>\n",
       "      <td>WBA000124</td>\n",
       "      <td>application</td>\n",
       "      <td>Web Based Application</td>\n",
       "      <td>WBS000088</td>\n",
       "      <td>IM0000012</td>\n",
       "      <td>Closed</td>\n",
       "      <td>4</td>\n",
       "      <td>4</td>\n",
       "      <td>4.0</td>\n",
       "      <td>0.345258</td>\n",
       "      <td>...</td>\n",
       "      <td>NaN</td>\n",
       "      <td>08-11-2013 13:55</td>\n",
       "      <td>08-11-2013 13:55</td>\n",
       "      <td>3,38,39,03,333</td>\n",
       "      <td>Other</td>\n",
       "      <td>1.0</td>\n",
       "      <td>SD0000029</td>\n",
       "      <td>NaN</td>\n",
       "      <td>NaN</td>\n",
       "      <td>NaN</td>\n",
       "    </tr>\n",
       "  </tbody>\n",
       "</table>\n",
       "<p>5 rows × 25 columns</p>\n",
       "</div>"
      ],
      "text/plain": [
       "     CI_Name          CI_Cat              CI_Subcat        WBS Incident_ID  \\\n",
       "0  SUB000508  subapplication  Web Based Application  WBS000162   IM0000004   \n",
       "1  WBA000124     application  Web Based Application  WBS000088   IM0000005   \n",
       "2  DTA000024     application    Desktop Application  WBS000092   IM0000006   \n",
       "3  WBA000124     application  Web Based Application  WBS000088   IM0000011   \n",
       "4  WBA000124     application  Web Based Application  WBS000088   IM0000012   \n",
       "\n",
       "   Status Impact Urgency  Priority  number_cnt  ...       Reopen_Time  \\\n",
       "0  Closed      4       4       4.0    0.601292  ...               NaN   \n",
       "1  Closed      3       3       3.0    0.415050  ...  02-12-2013 12:31   \n",
       "2  Closed     NS       3       NaN    0.517551  ...               NaN   \n",
       "3  Closed      4       4       4.0    0.642927  ...               NaN   \n",
       "4  Closed      4       4       4.0    0.345258  ...               NaN   \n",
       "\n",
       "      Resolved_Time        Close_Time  Handle_Time_hrs  \\\n",
       "0  04-11-2013 13:50  04-11-2013 13:51   3,87,16,91,111   \n",
       "1  02-12-2013 12:36  02-12-2013 12:36   4,35,47,86,389   \n",
       "2  13-01-2014 15:12  13-01-2014 15:13   4,84,31,19,444   \n",
       "3  14-11-2013 09:31  14-11-2013 09:31   4,32,18,33,333   \n",
       "4  08-11-2013 13:55  08-11-2013 13:55   3,38,39,03,333   \n",
       "\n",
       "                   Closure_Code No_of_Related_Interactions  \\\n",
       "0                         Other                        1.0   \n",
       "1                      Software                        1.0   \n",
       "2  No error - works as designed                        1.0   \n",
       "3                Operator error                        1.0   \n",
       "4                         Other                        1.0   \n",
       "\n",
       "  Related_Interaction No_of_Related_Incidents No_of_Related_Changes  \\\n",
       "0           SD0000007                     2.0                   NaN   \n",
       "1           SD0000011                     1.0                   NaN   \n",
       "2           SD0000017                     NaN                   NaN   \n",
       "3           SD0000025                     NaN                   NaN   \n",
       "4           SD0000029                     NaN                   NaN   \n",
       "\n",
       "  Related_Change  \n",
       "0            NaN  \n",
       "1            NaN  \n",
       "2            NaN  \n",
       "3            NaN  \n",
       "4            NaN  \n",
       "\n",
       "[5 rows x 25 columns]"
      ]
     },
     "execution_count": 4,
     "metadata": {},
     "output_type": "execute_result"
    }
   ],
   "source": [
    "data.head()"
   ]
  },
  {
   "cell_type": "code",
   "execution_count": 5,
   "id": "2234e456",
   "metadata": {},
   "outputs": [
    {
     "data": {
      "text/html": [
       "<div>\n",
       "<style scoped>\n",
       "    .dataframe tbody tr th:only-of-type {\n",
       "        vertical-align: middle;\n",
       "    }\n",
       "\n",
       "    .dataframe tbody tr th {\n",
       "        vertical-align: top;\n",
       "    }\n",
       "\n",
       "    .dataframe thead th {\n",
       "        text-align: right;\n",
       "    }\n",
       "</style>\n",
       "<table border=\"1\" class=\"dataframe\">\n",
       "  <thead>\n",
       "    <tr style=\"text-align: right;\">\n",
       "      <th></th>\n",
       "      <th>CI_Name</th>\n",
       "      <th>CI_Cat</th>\n",
       "      <th>CI_Subcat</th>\n",
       "      <th>WBS</th>\n",
       "      <th>Incident_ID</th>\n",
       "      <th>Status</th>\n",
       "      <th>Impact</th>\n",
       "      <th>Urgency</th>\n",
       "      <th>Priority</th>\n",
       "      <th>number_cnt</th>\n",
       "      <th>...</th>\n",
       "      <th>Reopen_Time</th>\n",
       "      <th>Resolved_Time</th>\n",
       "      <th>Close_Time</th>\n",
       "      <th>Handle_Time_hrs</th>\n",
       "      <th>Closure_Code</th>\n",
       "      <th>No_of_Related_Interactions</th>\n",
       "      <th>Related_Interaction</th>\n",
       "      <th>No_of_Related_Incidents</th>\n",
       "      <th>No_of_Related_Changes</th>\n",
       "      <th>Related_Change</th>\n",
       "    </tr>\n",
       "  </thead>\n",
       "  <tbody>\n",
       "    <tr>\n",
       "      <th>46601</th>\n",
       "      <td>SBA000464</td>\n",
       "      <td>application</td>\n",
       "      <td>Server Based Application</td>\n",
       "      <td>WBS000073</td>\n",
       "      <td>IM0047053</td>\n",
       "      <td>Closed</td>\n",
       "      <td>4</td>\n",
       "      <td>4</td>\n",
       "      <td>4.0</td>\n",
       "      <td>0.231896</td>\n",
       "      <td>...</td>\n",
       "      <td>NaN</td>\n",
       "      <td>31-03-2014 16:29</td>\n",
       "      <td>31-03-2014 16:29</td>\n",
       "      <td>0,095</td>\n",
       "      <td>Other</td>\n",
       "      <td>1.0</td>\n",
       "      <td>SD0147021</td>\n",
       "      <td>NaN</td>\n",
       "      <td>NaN</td>\n",
       "      <td>NaN</td>\n",
       "    </tr>\n",
       "    <tr>\n",
       "      <th>46602</th>\n",
       "      <td>SBA000461</td>\n",
       "      <td>application</td>\n",
       "      <td>Server Based Application</td>\n",
       "      <td>WBS000073</td>\n",
       "      <td>IM0047054</td>\n",
       "      <td>Closed</td>\n",
       "      <td>4</td>\n",
       "      <td>4</td>\n",
       "      <td>4.0</td>\n",
       "      <td>0.805153</td>\n",
       "      <td>...</td>\n",
       "      <td>NaN</td>\n",
       "      <td>31-03-2014 15:29</td>\n",
       "      <td>31-03-2014 15:29</td>\n",
       "      <td>0,428333333</td>\n",
       "      <td>User error</td>\n",
       "      <td>1.0</td>\n",
       "      <td>SD0146967</td>\n",
       "      <td>NaN</td>\n",
       "      <td>NaN</td>\n",
       "      <td>NaN</td>\n",
       "    </tr>\n",
       "    <tr>\n",
       "      <th>46603</th>\n",
       "      <td>LAP000019</td>\n",
       "      <td>computer</td>\n",
       "      <td>Laptop</td>\n",
       "      <td>WBS000091</td>\n",
       "      <td>IM0047055</td>\n",
       "      <td>Closed</td>\n",
       "      <td>5</td>\n",
       "      <td>5</td>\n",
       "      <td>5.0</td>\n",
       "      <td>0.917466</td>\n",
       "      <td>...</td>\n",
       "      <td>NaN</td>\n",
       "      <td>31-03-2014 15:32</td>\n",
       "      <td>31-03-2014 15:32</td>\n",
       "      <td>0,071666667</td>\n",
       "      <td>Hardware</td>\n",
       "      <td>1.0</td>\n",
       "      <td>SD0146982</td>\n",
       "      <td>NaN</td>\n",
       "      <td>NaN</td>\n",
       "      <td>NaN</td>\n",
       "    </tr>\n",
       "    <tr>\n",
       "      <th>46604</th>\n",
       "      <td>WBA000058</td>\n",
       "      <td>application</td>\n",
       "      <td>Web Based Application</td>\n",
       "      <td>WBS000073</td>\n",
       "      <td>IM0047056</td>\n",
       "      <td>Closed</td>\n",
       "      <td>4</td>\n",
       "      <td>4</td>\n",
       "      <td>4.0</td>\n",
       "      <td>0.701278</td>\n",
       "      <td>...</td>\n",
       "      <td>NaN</td>\n",
       "      <td>31-03-2014 15:42</td>\n",
       "      <td>31-03-2014 15:42</td>\n",
       "      <td>0,116944444</td>\n",
       "      <td>Software</td>\n",
       "      <td>1.0</td>\n",
       "      <td>SD0146986</td>\n",
       "      <td>NaN</td>\n",
       "      <td>NaN</td>\n",
       "      <td>NaN</td>\n",
       "    </tr>\n",
       "    <tr>\n",
       "      <th>46605</th>\n",
       "      <td>DCE000077</td>\n",
       "      <td>hardware</td>\n",
       "      <td>DataCenterEquipment</td>\n",
       "      <td>WBS000267</td>\n",
       "      <td>IM0047057</td>\n",
       "      <td>Closed</td>\n",
       "      <td>3</td>\n",
       "      <td>3</td>\n",
       "      <td>3.0</td>\n",
       "      <td>0.902320</td>\n",
       "      <td>...</td>\n",
       "      <td>NaN</td>\n",
       "      <td>31-03-2014 22:47</td>\n",
       "      <td>31-03-2014 22:47</td>\n",
       "      <td>0,586388889</td>\n",
       "      <td>Hardware</td>\n",
       "      <td>1.0</td>\n",
       "      <td>SD0147088</td>\n",
       "      <td>NaN</td>\n",
       "      <td>NaN</td>\n",
       "      <td>NaN</td>\n",
       "    </tr>\n",
       "  </tbody>\n",
       "</table>\n",
       "<p>5 rows × 25 columns</p>\n",
       "</div>"
      ],
      "text/plain": [
       "         CI_Name       CI_Cat                 CI_Subcat        WBS  \\\n",
       "46601  SBA000464  application  Server Based Application  WBS000073   \n",
       "46602  SBA000461  application  Server Based Application  WBS000073   \n",
       "46603  LAP000019     computer                    Laptop  WBS000091   \n",
       "46604  WBA000058  application     Web Based Application  WBS000073   \n",
       "46605  DCE000077     hardware       DataCenterEquipment  WBS000267   \n",
       "\n",
       "      Incident_ID  Status Impact Urgency  Priority  number_cnt  ...  \\\n",
       "46601   IM0047053  Closed      4       4       4.0    0.231896  ...   \n",
       "46602   IM0047054  Closed      4       4       4.0    0.805153  ...   \n",
       "46603   IM0047055  Closed      5       5       5.0    0.917466  ...   \n",
       "46604   IM0047056  Closed      4       4       4.0    0.701278  ...   \n",
       "46605   IM0047057  Closed      3       3       3.0    0.902320  ...   \n",
       "\n",
       "      Reopen_Time     Resolved_Time        Close_Time  Handle_Time_hrs  \\\n",
       "46601         NaN  31-03-2014 16:29  31-03-2014 16:29            0,095   \n",
       "46602         NaN  31-03-2014 15:29  31-03-2014 15:29      0,428333333   \n",
       "46603         NaN  31-03-2014 15:32  31-03-2014 15:32      0,071666667   \n",
       "46604         NaN  31-03-2014 15:42  31-03-2014 15:42      0,116944444   \n",
       "46605         NaN  31-03-2014 22:47  31-03-2014 22:47      0,586388889   \n",
       "\n",
       "      Closure_Code No_of_Related_Interactions Related_Interaction  \\\n",
       "46601        Other                        1.0           SD0147021   \n",
       "46602   User error                        1.0           SD0146967   \n",
       "46603     Hardware                        1.0           SD0146982   \n",
       "46604     Software                        1.0           SD0146986   \n",
       "46605     Hardware                        1.0           SD0147088   \n",
       "\n",
       "      No_of_Related_Incidents No_of_Related_Changes Related_Change  \n",
       "46601                     NaN                   NaN            NaN  \n",
       "46602                     NaN                   NaN            NaN  \n",
       "46603                     NaN                   NaN            NaN  \n",
       "46604                     NaN                   NaN            NaN  \n",
       "46605                     NaN                   NaN            NaN  \n",
       "\n",
       "[5 rows x 25 columns]"
      ]
     },
     "execution_count": 5,
     "metadata": {},
     "output_type": "execute_result"
    }
   ],
   "source": [
    "data.tail()"
   ]
  },
  {
   "cell_type": "code",
   "execution_count": 6,
   "id": "75d39ace",
   "metadata": {},
   "outputs": [
    {
     "name": "stdout",
     "output_type": "stream",
     "text": [
      "<class 'pandas.core.frame.DataFrame'>\n",
      "RangeIndex: 46606 entries, 0 to 46605\n",
      "Data columns (total 25 columns):\n",
      " #   Column                      Non-Null Count  Dtype  \n",
      "---  ------                      --------------  -----  \n",
      " 0   CI_Name                     46606 non-null  object \n",
      " 1   CI_Cat                      46495 non-null  object \n",
      " 2   CI_Subcat                   46495 non-null  object \n",
      " 3   WBS                         46606 non-null  object \n",
      " 4   Incident_ID                 46606 non-null  object \n",
      " 5   Status                      46606 non-null  object \n",
      " 6   Impact                      46606 non-null  object \n",
      " 7   Urgency                     46606 non-null  object \n",
      " 8   Priority                    45226 non-null  float64\n",
      " 9   number_cnt                  46606 non-null  float64\n",
      " 10  Category                    46606 non-null  object \n",
      " 11  KB_number                   46606 non-null  object \n",
      " 12  Alert_Status                46606 non-null  object \n",
      " 13  No_of_Reassignments         46605 non-null  float64\n",
      " 14  Open_Time                   46606 non-null  object \n",
      " 15  Reopen_Time                 2284 non-null   object \n",
      " 16  Resolved_Time               44826 non-null  object \n",
      " 17  Close_Time                  46606 non-null  object \n",
      " 18  Handle_Time_hrs             46605 non-null  object \n",
      " 19  Closure_Code                46146 non-null  object \n",
      " 20  No_of_Related_Interactions  46492 non-null  float64\n",
      " 21  Related_Interaction         46606 non-null  object \n",
      " 22  No_of_Related_Incidents     1222 non-null   float64\n",
      " 23  No_of_Related_Changes       560 non-null    float64\n",
      " 24  Related_Change              560 non-null    object \n",
      "dtypes: float64(6), object(19)\n",
      "memory usage: 8.9+ MB\n"
     ]
    }
   ],
   "source": [
    "data.info()"
   ]
  },
  {
   "cell_type": "code",
   "execution_count": 7,
   "id": "65a64866",
   "metadata": {},
   "outputs": [
    {
     "data": {
      "text/plain": [
       "Index(['CI_Name', 'CI_Cat', 'CI_Subcat', 'WBS', 'Incident_ID', 'Status',\n",
       "       'Impact', 'Urgency', 'Priority', 'number_cnt', 'Category', 'KB_number',\n",
       "       'Alert_Status', 'No_of_Reassignments', 'Open_Time', 'Reopen_Time',\n",
       "       'Resolved_Time', 'Close_Time', 'Handle_Time_hrs', 'Closure_Code',\n",
       "       'No_of_Related_Interactions', 'Related_Interaction',\n",
       "       'No_of_Related_Incidents', 'No_of_Related_Changes', 'Related_Change'],\n",
       "      dtype='object')"
      ]
     },
     "execution_count": 7,
     "metadata": {},
     "output_type": "execute_result"
    }
   ],
   "source": [
    "data.columns"
   ]
  },
  {
   "cell_type": "code",
   "execution_count": 8,
   "id": "becbeea1",
   "metadata": {},
   "outputs": [
    {
     "data": {
      "text/plain": [
       "CI_Name                        object\n",
       "CI_Cat                         object\n",
       "CI_Subcat                      object\n",
       "WBS                            object\n",
       "Incident_ID                    object\n",
       "Status                         object\n",
       "Impact                         object\n",
       "Urgency                        object\n",
       "Priority                      float64\n",
       "number_cnt                    float64\n",
       "Category                       object\n",
       "KB_number                      object\n",
       "Alert_Status                   object\n",
       "No_of_Reassignments           float64\n",
       "Open_Time                      object\n",
       "Reopen_Time                    object\n",
       "Resolved_Time                  object\n",
       "Close_Time                     object\n",
       "Handle_Time_hrs                object\n",
       "Closure_Code                   object\n",
       "No_of_Related_Interactions    float64\n",
       "Related_Interaction            object\n",
       "No_of_Related_Incidents       float64\n",
       "No_of_Related_Changes         float64\n",
       "Related_Change                 object\n",
       "dtype: object"
      ]
     },
     "execution_count": 8,
     "metadata": {},
     "output_type": "execute_result"
    }
   ],
   "source": [
    "data.dtypes"
   ]
  },
  {
   "cell_type": "code",
   "execution_count": 9,
   "id": "852c942c",
   "metadata": {},
   "outputs": [
    {
     "data": {
      "text/html": [
       "<div>\n",
       "<style scoped>\n",
       "    .dataframe tbody tr th:only-of-type {\n",
       "        vertical-align: middle;\n",
       "    }\n",
       "\n",
       "    .dataframe tbody tr th {\n",
       "        vertical-align: top;\n",
       "    }\n",
       "\n",
       "    .dataframe thead th {\n",
       "        text-align: right;\n",
       "    }\n",
       "</style>\n",
       "<table border=\"1\" class=\"dataframe\">\n",
       "  <thead>\n",
       "    <tr style=\"text-align: right;\">\n",
       "      <th></th>\n",
       "      <th>Priority</th>\n",
       "      <th>number_cnt</th>\n",
       "      <th>No_of_Reassignments</th>\n",
       "      <th>No_of_Related_Interactions</th>\n",
       "      <th>No_of_Related_Incidents</th>\n",
       "      <th>No_of_Related_Changes</th>\n",
       "    </tr>\n",
       "  </thead>\n",
       "  <tbody>\n",
       "    <tr>\n",
       "      <th>count</th>\n",
       "      <td>45226.000000</td>\n",
       "      <td>46606.000000</td>\n",
       "      <td>46605.000000</td>\n",
       "      <td>46492.000000</td>\n",
       "      <td>1222.000000</td>\n",
       "      <td>560.000000</td>\n",
       "    </tr>\n",
       "    <tr>\n",
       "      <th>mean</th>\n",
       "      <td>4.215805</td>\n",
       "      <td>0.499658</td>\n",
       "      <td>1.131831</td>\n",
       "      <td>1.149897</td>\n",
       "      <td>1.669394</td>\n",
       "      <td>1.058929</td>\n",
       "    </tr>\n",
       "    <tr>\n",
       "      <th>std</th>\n",
       "      <td>0.705624</td>\n",
       "      <td>0.288634</td>\n",
       "      <td>2.269774</td>\n",
       "      <td>2.556338</td>\n",
       "      <td>3.339687</td>\n",
       "      <td>0.403596</td>\n",
       "    </tr>\n",
       "    <tr>\n",
       "      <th>min</th>\n",
       "      <td>1.000000</td>\n",
       "      <td>0.000023</td>\n",
       "      <td>0.000000</td>\n",
       "      <td>1.000000</td>\n",
       "      <td>1.000000</td>\n",
       "      <td>1.000000</td>\n",
       "    </tr>\n",
       "    <tr>\n",
       "      <th>25%</th>\n",
       "      <td>4.000000</td>\n",
       "      <td>0.248213</td>\n",
       "      <td>0.000000</td>\n",
       "      <td>1.000000</td>\n",
       "      <td>1.000000</td>\n",
       "      <td>1.000000</td>\n",
       "    </tr>\n",
       "    <tr>\n",
       "      <th>50%</th>\n",
       "      <td>4.000000</td>\n",
       "      <td>0.500269</td>\n",
       "      <td>0.000000</td>\n",
       "      <td>1.000000</td>\n",
       "      <td>1.000000</td>\n",
       "      <td>1.000000</td>\n",
       "    </tr>\n",
       "    <tr>\n",
       "      <th>75%</th>\n",
       "      <td>5.000000</td>\n",
       "      <td>0.749094</td>\n",
       "      <td>2.000000</td>\n",
       "      <td>1.000000</td>\n",
       "      <td>1.000000</td>\n",
       "      <td>1.000000</td>\n",
       "    </tr>\n",
       "    <tr>\n",
       "      <th>max</th>\n",
       "      <td>5.000000</td>\n",
       "      <td>0.999997</td>\n",
       "      <td>46.000000</td>\n",
       "      <td>370.000000</td>\n",
       "      <td>63.000000</td>\n",
       "      <td>9.000000</td>\n",
       "    </tr>\n",
       "  </tbody>\n",
       "</table>\n",
       "</div>"
      ],
      "text/plain": [
       "           Priority    number_cnt  No_of_Reassignments  \\\n",
       "count  45226.000000  46606.000000         46605.000000   \n",
       "mean       4.215805      0.499658             1.131831   \n",
       "std        0.705624      0.288634             2.269774   \n",
       "min        1.000000      0.000023             0.000000   \n",
       "25%        4.000000      0.248213             0.000000   \n",
       "50%        4.000000      0.500269             0.000000   \n",
       "75%        5.000000      0.749094             2.000000   \n",
       "max        5.000000      0.999997            46.000000   \n",
       "\n",
       "       No_of_Related_Interactions  No_of_Related_Incidents  \\\n",
       "count                46492.000000              1222.000000   \n",
       "mean                     1.149897                 1.669394   \n",
       "std                      2.556338                 3.339687   \n",
       "min                      1.000000                 1.000000   \n",
       "25%                      1.000000                 1.000000   \n",
       "50%                      1.000000                 1.000000   \n",
       "75%                      1.000000                 1.000000   \n",
       "max                    370.000000                63.000000   \n",
       "\n",
       "       No_of_Related_Changes  \n",
       "count             560.000000  \n",
       "mean                1.058929  \n",
       "std                 0.403596  \n",
       "min                 1.000000  \n",
       "25%                 1.000000  \n",
       "50%                 1.000000  \n",
       "75%                 1.000000  \n",
       "max                 9.000000  "
      ]
     },
     "execution_count": 9,
     "metadata": {},
     "output_type": "execute_result"
    }
   ],
   "source": [
    "data.describe()"
   ]
  },
  {
   "cell_type": "code",
   "execution_count": 10,
   "id": "8647fa41",
   "metadata": {},
   "outputs": [
    {
     "data": {
      "text/plain": [
       "(46606, 25)"
      ]
     },
     "execution_count": 10,
     "metadata": {},
     "output_type": "execute_result"
    }
   ],
   "source": [
    "data.shape"
   ]
  },
  {
   "cell_type": "code",
   "execution_count": 11,
   "id": "a27140ad",
   "metadata": {},
   "outputs": [
    {
     "data": {
      "text/plain": [
       "CI_Name                           0\n",
       "CI_Cat                          111\n",
       "CI_Subcat                       111\n",
       "WBS                               0\n",
       "Incident_ID                       0\n",
       "Status                            0\n",
       "Impact                            0\n",
       "Urgency                           0\n",
       "Priority                       1380\n",
       "number_cnt                        0\n",
       "Category                          0\n",
       "KB_number                         0\n",
       "Alert_Status                      0\n",
       "No_of_Reassignments               1\n",
       "Open_Time                         0\n",
       "Reopen_Time                   44322\n",
       "Resolved_Time                  1780\n",
       "Close_Time                        0\n",
       "Handle_Time_hrs                   1\n",
       "Closure_Code                    460\n",
       "No_of_Related_Interactions      114\n",
       "Related_Interaction               0\n",
       "No_of_Related_Incidents       45384\n",
       "No_of_Related_Changes         46046\n",
       "Related_Change                46046\n",
       "dtype: int64"
      ]
     },
     "execution_count": 11,
     "metadata": {},
     "output_type": "execute_result"
    }
   ],
   "source": [
    "data.isnull().sum()"
   ]
  },
  {
   "cell_type": "markdown",
   "id": "24ae4544",
   "metadata": {},
   "source": [
    "# Data Processing / Data Munging\n",
    "CI Category & CI Subcategory had a lot of labels which were replaced to only take the major ones. Unknown values were replaced by Mode values."
   ]
  },
  {
   "cell_type": "code",
   "execution_count": 12,
   "id": "1cdc1d16",
   "metadata": {},
   "outputs": [],
   "source": [
    "data.CI_Cat.replace(['database'],'storage',inplace=True)\n",
    "data.CI_Cat.replace(['applicationcomponent'],'subapplication',inplace=True)\n",
    "data.CI_Cat.replace(['displaydevice','officeelectronics','Phone','networkcomponents'],'hardware',inplace=True)\n",
    "data.CI_Cat.replace(np.nan,'application',inplace=True)"
   ]
  },
  {
   "cell_type": "code",
   "execution_count": 13,
   "id": "f4da9b54",
   "metadata": {},
   "outputs": [],
   "source": [
    "data.CI_Subcat.replace('Desktop','Desktop Application',inplace=True)\n",
    "data.CI_Subcat.replace(['Application Server','Virtual Tape Server','ESX Server','zOS Server','Neoview Server','X86 Server',\n",
    "                       'Unix Server','Oracle Server','Windows Server in extern beheer','Thin Client','NonStop Server',\n",
    "                       'Number','Windows Server','Linux Server',np.nan,'SharePoint Farm','Lines'],\n",
    "                       'Server Based Application',inplace=True)\n",
    "data.CI_Subcat.replace('RAC Service','Banking Device',inplace=True)\n",
    "data.CI_Subcat.replace(['Iptelephony','Protocol','Net Device','IPtelephony','ESX Cluster','Standard Application'],\n",
    "                       'Web Based Application',inplace=True)\n",
    "data.CI_Subcat.replace(['VMWare','Security Software','zOS Systeem','Firewall','Database Software','VDI','Instance',\n",
    "                       'MQ Queue Manager','Automation Software','Citrix','SAP','Encryption'],'System Software',inplace=True)\n",
    "data.CI_Subcat.replace(['UPS','Omgeving'],'Client Based Application',inplace=True)\n",
    "data.CI_Subcat.replace(['NonStop Storage','NonStop Harddisk','Tape Library','zOS Cluster','DataCenterEquipment',\n",
    "                       'MigratieDummy'],'Database',inplace=True)\n",
    "data.CI_Subcat.replace(['Modem','Router'],'Network Component',inplace=True)\n",
    "data.CI_Subcat.replace('KVM Switches','Switch',inplace=True)"
   ]
  },
  {
   "cell_type": "code",
   "execution_count": 14,
   "id": "37505696",
   "metadata": {},
   "outputs": [],
   "source": [
    "data.No_of_Related_Interactions.replace(np.nan,1,inplace=True)\n",
    "data.Priority.replace(np.nan,4,inplace=True)\n",
    "data.No_of_Related_Incidents.replace(np.nan,0,inplace=True)\n",
    "data.No_of_Related_Changes.replace(np.nan,0,inplace=True)"
   ]
  },
  {
   "cell_type": "markdown",
   "id": "b5966544",
   "metadata": {},
   "source": [
    "# 1. Predicting Priorities"
   ]
  },
  {
   "cell_type": "markdown",
   "id": "dad017d5",
   "metadata": {},
   "source": [
    "# Feature Selection\n",
    "Only the features which are available when the tickets arrives can be used to predict priority. Therefore, we have used only 4 predictors."
   ]
  },
  {
   "cell_type": "code",
   "execution_count": 15,
   "id": "07852e5c",
   "metadata": {},
   "outputs": [],
   "source": [
    "X = data.loc[:,['CI_Cat','CI_Subcat','WBS','Category']]\n",
    "y = data.Priority"
   ]
  },
  {
   "cell_type": "code",
   "execution_count": 16,
   "id": "122aa73e",
   "metadata": {},
   "outputs": [
    {
     "data": {
      "text/html": [
       "<div>\n",
       "<style scoped>\n",
       "    .dataframe tbody tr th:only-of-type {\n",
       "        vertical-align: middle;\n",
       "    }\n",
       "\n",
       "    .dataframe tbody tr th {\n",
       "        vertical-align: top;\n",
       "    }\n",
       "\n",
       "    .dataframe thead th {\n",
       "        text-align: right;\n",
       "    }\n",
       "</style>\n",
       "<table border=\"1\" class=\"dataframe\">\n",
       "  <thead>\n",
       "    <tr style=\"text-align: right;\">\n",
       "      <th></th>\n",
       "      <th>CI_Cat</th>\n",
       "      <th>CI_Subcat</th>\n",
       "      <th>WBS</th>\n",
       "      <th>Category</th>\n",
       "    </tr>\n",
       "  </thead>\n",
       "  <tbody>\n",
       "    <tr>\n",
       "      <th>0</th>\n",
       "      <td>subapplication</td>\n",
       "      <td>Web Based Application</td>\n",
       "      <td>WBS000162</td>\n",
       "      <td>incident</td>\n",
       "    </tr>\n",
       "    <tr>\n",
       "      <th>1</th>\n",
       "      <td>application</td>\n",
       "      <td>Web Based Application</td>\n",
       "      <td>WBS000088</td>\n",
       "      <td>incident</td>\n",
       "    </tr>\n",
       "    <tr>\n",
       "      <th>2</th>\n",
       "      <td>application</td>\n",
       "      <td>Desktop Application</td>\n",
       "      <td>WBS000092</td>\n",
       "      <td>request for information</td>\n",
       "    </tr>\n",
       "    <tr>\n",
       "      <th>3</th>\n",
       "      <td>application</td>\n",
       "      <td>Web Based Application</td>\n",
       "      <td>WBS000088</td>\n",
       "      <td>incident</td>\n",
       "    </tr>\n",
       "    <tr>\n",
       "      <th>4</th>\n",
       "      <td>application</td>\n",
       "      <td>Web Based Application</td>\n",
       "      <td>WBS000088</td>\n",
       "      <td>incident</td>\n",
       "    </tr>\n",
       "  </tbody>\n",
       "</table>\n",
       "</div>"
      ],
      "text/plain": [
       "           CI_Cat              CI_Subcat        WBS                 Category\n",
       "0  subapplication  Web Based Application  WBS000162                 incident\n",
       "1     application  Web Based Application  WBS000088                 incident\n",
       "2     application    Desktop Application  WBS000092  request for information\n",
       "3     application  Web Based Application  WBS000088                 incident\n",
       "4     application  Web Based Application  WBS000088                 incident"
      ]
     },
     "execution_count": 16,
     "metadata": {},
     "output_type": "execute_result"
    }
   ],
   "source": [
    "X.head()"
   ]
  },
  {
   "cell_type": "code",
   "execution_count": 17,
   "id": "00c1db68",
   "metadata": {},
   "outputs": [],
   "source": [
    "# Label Encoding\n",
    "enc= LabelEncoder()\n",
    "for i in (0,1,2,3):\n",
    "    X.iloc[:,i] = enc.fit_transform(X.iloc[:,i])"
   ]
  },
  {
   "cell_type": "code",
   "execution_count": 18,
   "id": "3d017776",
   "metadata": {},
   "outputs": [],
   "source": [
    "# Splitting the data into test and train for calculating accuracy\n",
    "X_train, X_test, y_train, y_test = train_test_split(X,y,test_size=0.3,random_state=10)"
   ]
  },
  {
   "cell_type": "code",
   "execution_count": 19,
   "id": "05ced856",
   "metadata": {},
   "outputs": [],
   "source": [
    "# Standardization technique\n",
    "sc = StandardScaler()\n",
    "X_train = sc.fit_transform(X_train)\n",
    "X_test = sc.transform(X_test)"
   ]
  },
  {
   "cell_type": "code",
   "execution_count": 20,
   "id": "f134dd94",
   "metadata": {},
   "outputs": [
    {
     "data": {
      "text/plain": [
       "(32624, 4)"
      ]
     },
     "execution_count": 20,
     "metadata": {},
     "output_type": "execute_result"
    }
   ],
   "source": [
    "X_train.shape"
   ]
  },
  {
   "cell_type": "code",
   "execution_count": 21,
   "id": "504acde8",
   "metadata": {},
   "outputs": [
    {
     "data": {
      "text/plain": [
       "(13982, 4)"
      ]
     },
     "execution_count": 21,
     "metadata": {},
     "output_type": "execute_result"
    }
   ],
   "source": [
    "X_test.shape"
   ]
  },
  {
   "cell_type": "markdown",
   "id": "69e599d9",
   "metadata": {},
   "source": [
    "# Models"
   ]
  },
  {
   "cell_type": "markdown",
   "id": "fe458c63",
   "metadata": {},
   "source": [
    "# 1. Support Vector Machine"
   ]
  },
  {
   "cell_type": "code",
   "execution_count": 22,
   "id": "e738f574",
   "metadata": {},
   "outputs": [],
   "source": [
    "# Training the model\n",
    "from sklearn.svm import SVC\n",
    "rbf_svc = SVC(kernel='rbf',C=10,gamma=0.1).fit(X_train,y_train)"
   ]
  },
  {
   "cell_type": "code",
   "execution_count": 23,
   "id": "04bdfae0",
   "metadata": {},
   "outputs": [],
   "source": [
    "# Predicting the model\n",
    "y_predict_svm = rbf_svc.predict(X_test)"
   ]
  },
  {
   "cell_type": "code",
   "execution_count": 24,
   "id": "c4c294fc",
   "metadata": {},
   "outputs": [
    {
     "name": "stdout",
     "output_type": "stream",
     "text": [
      "0.747604062365899\n",
      "              precision    recall  f1-score   support\n",
      "\n",
      "         1.0       0.00      0.00      0.00         1\n",
      "         2.0       0.52      0.65      0.58       210\n",
      "         3.0       0.55      0.31      0.39      1581\n",
      "         4.0       0.72      0.89      0.80      7254\n",
      "         5.0       0.87      0.68      0.76      4936\n",
      "\n",
      "    accuracy                           0.75     13982\n",
      "   macro avg       0.53      0.51      0.51     13982\n",
      "weighted avg       0.75      0.75      0.74     13982\n",
      "\n"
     ]
    }
   ],
   "source": [
    "# Finding accuracy, precision, recall and confusion matrix\n",
    "print(accuracy_score(y_test,y_predict_svm))\n",
    "print(classification_report(y_test,y_predict_svm))"
   ]
  },
  {
   "cell_type": "code",
   "execution_count": 25,
   "id": "b757cab0",
   "metadata": {},
   "outputs": [
    {
     "data": {
      "text/plain": [
       "array([[   0,    0,    0,    1,    0],\n",
       "       [   0,  137,    8,   56,    9],\n",
       "       [   0,   36,  486,  958,  101],\n",
       "       [   0,   78,  314, 6477,  385],\n",
       "       [   0,   10,   79, 1494, 3353]], dtype=int64)"
      ]
     },
     "execution_count": 25,
     "metadata": {},
     "output_type": "execute_result"
    }
   ],
   "source": [
    "confusion_matrix(y_test,y_predict_svm)"
   ]
  },
  {
   "cell_type": "markdown",
   "id": "36ea7f08",
   "metadata": {},
   "source": [
    "# 2. Decision Tree"
   ]
  },
  {
   "cell_type": "code",
   "execution_count": 26,
   "id": "cc3ea98a",
   "metadata": {},
   "outputs": [
    {
     "data": {
      "text/html": [
       "<style>#sk-container-id-1 {color: black;}#sk-container-id-1 pre{padding: 0;}#sk-container-id-1 div.sk-toggleable {background-color: white;}#sk-container-id-1 label.sk-toggleable__label {cursor: pointer;display: block;width: 100%;margin-bottom: 0;padding: 0.3em;box-sizing: border-box;text-align: center;}#sk-container-id-1 label.sk-toggleable__label-arrow:before {content: \"▸\";float: left;margin-right: 0.25em;color: #696969;}#sk-container-id-1 label.sk-toggleable__label-arrow:hover:before {color: black;}#sk-container-id-1 div.sk-estimator:hover label.sk-toggleable__label-arrow:before {color: black;}#sk-container-id-1 div.sk-toggleable__content {max-height: 0;max-width: 0;overflow: hidden;text-align: left;background-color: #f0f8ff;}#sk-container-id-1 div.sk-toggleable__content pre {margin: 0.2em;color: black;border-radius: 0.25em;background-color: #f0f8ff;}#sk-container-id-1 input.sk-toggleable__control:checked~div.sk-toggleable__content {max-height: 200px;max-width: 100%;overflow: auto;}#sk-container-id-1 input.sk-toggleable__control:checked~label.sk-toggleable__label-arrow:before {content: \"▾\";}#sk-container-id-1 div.sk-estimator input.sk-toggleable__control:checked~label.sk-toggleable__label {background-color: #d4ebff;}#sk-container-id-1 div.sk-label input.sk-toggleable__control:checked~label.sk-toggleable__label {background-color: #d4ebff;}#sk-container-id-1 input.sk-hidden--visually {border: 0;clip: rect(1px 1px 1px 1px);clip: rect(1px, 1px, 1px, 1px);height: 1px;margin: -1px;overflow: hidden;padding: 0;position: absolute;width: 1px;}#sk-container-id-1 div.sk-estimator {font-family: monospace;background-color: #f0f8ff;border: 1px dotted black;border-radius: 0.25em;box-sizing: border-box;margin-bottom: 0.5em;}#sk-container-id-1 div.sk-estimator:hover {background-color: #d4ebff;}#sk-container-id-1 div.sk-parallel-item::after {content: \"\";width: 100%;border-bottom: 1px solid gray;flex-grow: 1;}#sk-container-id-1 div.sk-label:hover label.sk-toggleable__label {background-color: #d4ebff;}#sk-container-id-1 div.sk-serial::before {content: \"\";position: absolute;border-left: 1px solid gray;box-sizing: border-box;top: 0;bottom: 0;left: 50%;z-index: 0;}#sk-container-id-1 div.sk-serial {display: flex;flex-direction: column;align-items: center;background-color: white;padding-right: 0.2em;padding-left: 0.2em;position: relative;}#sk-container-id-1 div.sk-item {position: relative;z-index: 1;}#sk-container-id-1 div.sk-parallel {display: flex;align-items: stretch;justify-content: center;background-color: white;position: relative;}#sk-container-id-1 div.sk-item::before, #sk-container-id-1 div.sk-parallel-item::before {content: \"\";position: absolute;border-left: 1px solid gray;box-sizing: border-box;top: 0;bottom: 0;left: 50%;z-index: -1;}#sk-container-id-1 div.sk-parallel-item {display: flex;flex-direction: column;z-index: 1;position: relative;background-color: white;}#sk-container-id-1 div.sk-parallel-item:first-child::after {align-self: flex-end;width: 50%;}#sk-container-id-1 div.sk-parallel-item:last-child::after {align-self: flex-start;width: 50%;}#sk-container-id-1 div.sk-parallel-item:only-child::after {width: 0;}#sk-container-id-1 div.sk-dashed-wrapped {border: 1px dashed gray;margin: 0 0.4em 0.5em 0.4em;box-sizing: border-box;padding-bottom: 0.4em;background-color: white;}#sk-container-id-1 div.sk-label label {font-family: monospace;font-weight: bold;display: inline-block;line-height: 1.2em;}#sk-container-id-1 div.sk-label-container {text-align: center;}#sk-container-id-1 div.sk-container {/* jupyter's `normalize.less` sets `[hidden] { display: none; }` but bootstrap.min.css set `[hidden] { display: none !important; }` so we also need the `!important` here to be able to override the default hidden behavior on the sphinx rendered scikit-learn.org. See: https://github.com/scikit-learn/scikit-learn/issues/21755 */display: inline-block !important;position: relative;}#sk-container-id-1 div.sk-text-repr-fallback {display: none;}</style><div id=\"sk-container-id-1\" class=\"sk-top-container\"><div class=\"sk-text-repr-fallback\"><pre>DecisionTreeClassifier()</pre><b>In a Jupyter environment, please rerun this cell to show the HTML representation or trust the notebook. <br />On GitHub, the HTML representation is unable to render, please try loading this page with nbviewer.org.</b></div><div class=\"sk-container\" hidden><div class=\"sk-item\"><div class=\"sk-estimator sk-toggleable\"><input class=\"sk-toggleable__control sk-hidden--visually\" id=\"sk-estimator-id-1\" type=\"checkbox\" checked><label for=\"sk-estimator-id-1\" class=\"sk-toggleable__label sk-toggleable__label-arrow\">DecisionTreeClassifier</label><div class=\"sk-toggleable__content\"><pre>DecisionTreeClassifier()</pre></div></div></div></div></div>"
      ],
      "text/plain": [
       "DecisionTreeClassifier()"
      ]
     },
     "execution_count": 26,
     "metadata": {},
     "output_type": "execute_result"
    }
   ],
   "source": [
    "# Training the model\n",
    "from sklearn.tree import DecisionTreeClassifier\n",
    "model_dtree=DecisionTreeClassifier()\n",
    "model_dtree.fit(X_train,y_train)"
   ]
  },
  {
   "cell_type": "code",
   "execution_count": 27,
   "id": "dda7c2de",
   "metadata": {},
   "outputs": [],
   "source": [
    "# Predicting the model\n",
    "y_predict_dtree = model_dtree.predict(X_test)"
   ]
  },
  {
   "cell_type": "code",
   "execution_count": 28,
   "id": "12526081",
   "metadata": {},
   "outputs": [
    {
     "name": "stdout",
     "output_type": "stream",
     "text": [
      "0.8170504934916321\n",
      "              precision    recall  f1-score   support\n",
      "\n",
      "         1.0       0.00      0.00      0.00         1\n",
      "         2.0       0.52      0.69      0.59       210\n",
      "         3.0       0.66      0.63      0.65      1581\n",
      "         4.0       0.82      0.87      0.85      7254\n",
      "         5.0       0.88      0.80      0.84      4936\n",
      "\n",
      "    accuracy                           0.82     13982\n",
      "   macro avg       0.58      0.60      0.58     13982\n",
      "weighted avg       0.82      0.82      0.82     13982\n",
      "\n"
     ]
    }
   ],
   "source": [
    "# Finding accuracy, precision, recall and confusion matrix\n",
    "print(accuracy_score(y_test,y_predict_dtree))\n",
    "print(classification_report(y_test,y_predict_dtree))"
   ]
  },
  {
   "cell_type": "code",
   "execution_count": 29,
   "id": "131b21f3",
   "metadata": {},
   "outputs": [
    {
     "data": {
      "text/plain": [
       "array([[   0,    0,    0,    1,    0],\n",
       "       [   0,  144,    6,   43,   17],\n",
       "       [   0,   42,  999,  419,  121],\n",
       "       [   0,   80,  458, 6325,  391],\n",
       "       [   0,   12,   51,  917, 3956]], dtype=int64)"
      ]
     },
     "execution_count": 29,
     "metadata": {},
     "output_type": "execute_result"
    }
   ],
   "source": [
    "confusion_matrix(y_test,y_predict_dtree)"
   ]
  },
  {
   "cell_type": "markdown",
   "id": "5917ec66",
   "metadata": {},
   "source": [
    "# 3. Random Forest"
   ]
  },
  {
   "cell_type": "code",
   "execution_count": 30,
   "id": "23f1328b",
   "metadata": {},
   "outputs": [
    {
     "data": {
      "text/html": [
       "<style>#sk-container-id-2 {color: black;}#sk-container-id-2 pre{padding: 0;}#sk-container-id-2 div.sk-toggleable {background-color: white;}#sk-container-id-2 label.sk-toggleable__label {cursor: pointer;display: block;width: 100%;margin-bottom: 0;padding: 0.3em;box-sizing: border-box;text-align: center;}#sk-container-id-2 label.sk-toggleable__label-arrow:before {content: \"▸\";float: left;margin-right: 0.25em;color: #696969;}#sk-container-id-2 label.sk-toggleable__label-arrow:hover:before {color: black;}#sk-container-id-2 div.sk-estimator:hover label.sk-toggleable__label-arrow:before {color: black;}#sk-container-id-2 div.sk-toggleable__content {max-height: 0;max-width: 0;overflow: hidden;text-align: left;background-color: #f0f8ff;}#sk-container-id-2 div.sk-toggleable__content pre {margin: 0.2em;color: black;border-radius: 0.25em;background-color: #f0f8ff;}#sk-container-id-2 input.sk-toggleable__control:checked~div.sk-toggleable__content {max-height: 200px;max-width: 100%;overflow: auto;}#sk-container-id-2 input.sk-toggleable__control:checked~label.sk-toggleable__label-arrow:before {content: \"▾\";}#sk-container-id-2 div.sk-estimator input.sk-toggleable__control:checked~label.sk-toggleable__label {background-color: #d4ebff;}#sk-container-id-2 div.sk-label input.sk-toggleable__control:checked~label.sk-toggleable__label {background-color: #d4ebff;}#sk-container-id-2 input.sk-hidden--visually {border: 0;clip: rect(1px 1px 1px 1px);clip: rect(1px, 1px, 1px, 1px);height: 1px;margin: -1px;overflow: hidden;padding: 0;position: absolute;width: 1px;}#sk-container-id-2 div.sk-estimator {font-family: monospace;background-color: #f0f8ff;border: 1px dotted black;border-radius: 0.25em;box-sizing: border-box;margin-bottom: 0.5em;}#sk-container-id-2 div.sk-estimator:hover {background-color: #d4ebff;}#sk-container-id-2 div.sk-parallel-item::after {content: \"\";width: 100%;border-bottom: 1px solid gray;flex-grow: 1;}#sk-container-id-2 div.sk-label:hover label.sk-toggleable__label {background-color: #d4ebff;}#sk-container-id-2 div.sk-serial::before {content: \"\";position: absolute;border-left: 1px solid gray;box-sizing: border-box;top: 0;bottom: 0;left: 50%;z-index: 0;}#sk-container-id-2 div.sk-serial {display: flex;flex-direction: column;align-items: center;background-color: white;padding-right: 0.2em;padding-left: 0.2em;position: relative;}#sk-container-id-2 div.sk-item {position: relative;z-index: 1;}#sk-container-id-2 div.sk-parallel {display: flex;align-items: stretch;justify-content: center;background-color: white;position: relative;}#sk-container-id-2 div.sk-item::before, #sk-container-id-2 div.sk-parallel-item::before {content: \"\";position: absolute;border-left: 1px solid gray;box-sizing: border-box;top: 0;bottom: 0;left: 50%;z-index: -1;}#sk-container-id-2 div.sk-parallel-item {display: flex;flex-direction: column;z-index: 1;position: relative;background-color: white;}#sk-container-id-2 div.sk-parallel-item:first-child::after {align-self: flex-end;width: 50%;}#sk-container-id-2 div.sk-parallel-item:last-child::after {align-self: flex-start;width: 50%;}#sk-container-id-2 div.sk-parallel-item:only-child::after {width: 0;}#sk-container-id-2 div.sk-dashed-wrapped {border: 1px dashed gray;margin: 0 0.4em 0.5em 0.4em;box-sizing: border-box;padding-bottom: 0.4em;background-color: white;}#sk-container-id-2 div.sk-label label {font-family: monospace;font-weight: bold;display: inline-block;line-height: 1.2em;}#sk-container-id-2 div.sk-label-container {text-align: center;}#sk-container-id-2 div.sk-container {/* jupyter's `normalize.less` sets `[hidden] { display: none; }` but bootstrap.min.css set `[hidden] { display: none !important; }` so we also need the `!important` here to be able to override the default hidden behavior on the sphinx rendered scikit-learn.org. See: https://github.com/scikit-learn/scikit-learn/issues/21755 */display: inline-block !important;position: relative;}#sk-container-id-2 div.sk-text-repr-fallback {display: none;}</style><div id=\"sk-container-id-2\" class=\"sk-top-container\"><div class=\"sk-text-repr-fallback\"><pre>RandomForestClassifier(max_depth=27)</pre><b>In a Jupyter environment, please rerun this cell to show the HTML representation or trust the notebook. <br />On GitHub, the HTML representation is unable to render, please try loading this page with nbviewer.org.</b></div><div class=\"sk-container\" hidden><div class=\"sk-item\"><div class=\"sk-estimator sk-toggleable\"><input class=\"sk-toggleable__control sk-hidden--visually\" id=\"sk-estimator-id-2\" type=\"checkbox\" checked><label for=\"sk-estimator-id-2\" class=\"sk-toggleable__label sk-toggleable__label-arrow\">RandomForestClassifier</label><div class=\"sk-toggleable__content\"><pre>RandomForestClassifier(max_depth=27)</pre></div></div></div></div></div>"
      ],
      "text/plain": [
       "RandomForestClassifier(max_depth=27)"
      ]
     },
     "execution_count": 30,
     "metadata": {},
     "output_type": "execute_result"
    }
   ],
   "source": [
    "# Training the model\n",
    "from sklearn.ensemble import RandomForestClassifier\n",
    "model_rf = RandomForestClassifier(max_depth=27)\n",
    "model_rf.fit(X_train,y_train)"
   ]
  },
  {
   "cell_type": "code",
   "execution_count": 31,
   "id": "90be8e79",
   "metadata": {},
   "outputs": [],
   "source": [
    "# Predicting the model\n",
    "y_predict_rf = model_rf.predict(X_test)"
   ]
  },
  {
   "cell_type": "code",
   "execution_count": 32,
   "id": "1a0ae694",
   "metadata": {},
   "outputs": [
    {
     "name": "stdout",
     "output_type": "stream",
     "text": [
      "0.8171220140180232\n",
      "              precision    recall  f1-score   support\n",
      "\n",
      "         1.0       0.00      0.00      0.00         1\n",
      "         2.0       0.52      0.68      0.59       210\n",
      "         3.0       0.66      0.63      0.64      1581\n",
      "         4.0       0.82      0.87      0.85      7254\n",
      "         5.0       0.88      0.80      0.84      4936\n",
      "\n",
      "    accuracy                           0.82     13982\n",
      "   macro avg       0.58      0.60      0.58     13982\n",
      "weighted avg       0.82      0.82      0.82     13982\n",
      "\n"
     ]
    }
   ],
   "source": [
    "# Finding accuracy, precision, recall and confusion matrix\n",
    "print(accuracy_score(y_test,y_predict_rf))\n",
    "print(classification_report(y_test,y_predict_rf))"
   ]
  },
  {
   "cell_type": "code",
   "execution_count": 33,
   "id": "df71d4fd",
   "metadata": {},
   "outputs": [
    {
     "data": {
      "text/plain": [
       "array([[   0,    0,    0,    1,    0],\n",
       "       [   0,  142,    7,   44,   17],\n",
       "       [   0,   39,  994,  424,  124],\n",
       "       [   0,   79,  457, 6329,  389],\n",
       "       [   0,   12,   46,  918, 3960]], dtype=int64)"
      ]
     },
     "execution_count": 33,
     "metadata": {},
     "output_type": "execute_result"
    }
   ],
   "source": [
    "confusion_matrix(y_test,y_predict_rf)"
   ]
  },
  {
   "cell_type": "markdown",
   "id": "fbac50eb",
   "metadata": {},
   "source": [
    "# 4. K-Nearest Neighbor"
   ]
  },
  {
   "cell_type": "code",
   "execution_count": 34,
   "id": "dd778921",
   "metadata": {},
   "outputs": [
    {
     "data": {
      "text/html": [
       "<style>#sk-container-id-3 {color: black;}#sk-container-id-3 pre{padding: 0;}#sk-container-id-3 div.sk-toggleable {background-color: white;}#sk-container-id-3 label.sk-toggleable__label {cursor: pointer;display: block;width: 100%;margin-bottom: 0;padding: 0.3em;box-sizing: border-box;text-align: center;}#sk-container-id-3 label.sk-toggleable__label-arrow:before {content: \"▸\";float: left;margin-right: 0.25em;color: #696969;}#sk-container-id-3 label.sk-toggleable__label-arrow:hover:before {color: black;}#sk-container-id-3 div.sk-estimator:hover label.sk-toggleable__label-arrow:before {color: black;}#sk-container-id-3 div.sk-toggleable__content {max-height: 0;max-width: 0;overflow: hidden;text-align: left;background-color: #f0f8ff;}#sk-container-id-3 div.sk-toggleable__content pre {margin: 0.2em;color: black;border-radius: 0.25em;background-color: #f0f8ff;}#sk-container-id-3 input.sk-toggleable__control:checked~div.sk-toggleable__content {max-height: 200px;max-width: 100%;overflow: auto;}#sk-container-id-3 input.sk-toggleable__control:checked~label.sk-toggleable__label-arrow:before {content: \"▾\";}#sk-container-id-3 div.sk-estimator input.sk-toggleable__control:checked~label.sk-toggleable__label {background-color: #d4ebff;}#sk-container-id-3 div.sk-label input.sk-toggleable__control:checked~label.sk-toggleable__label {background-color: #d4ebff;}#sk-container-id-3 input.sk-hidden--visually {border: 0;clip: rect(1px 1px 1px 1px);clip: rect(1px, 1px, 1px, 1px);height: 1px;margin: -1px;overflow: hidden;padding: 0;position: absolute;width: 1px;}#sk-container-id-3 div.sk-estimator {font-family: monospace;background-color: #f0f8ff;border: 1px dotted black;border-radius: 0.25em;box-sizing: border-box;margin-bottom: 0.5em;}#sk-container-id-3 div.sk-estimator:hover {background-color: #d4ebff;}#sk-container-id-3 div.sk-parallel-item::after {content: \"\";width: 100%;border-bottom: 1px solid gray;flex-grow: 1;}#sk-container-id-3 div.sk-label:hover label.sk-toggleable__label {background-color: #d4ebff;}#sk-container-id-3 div.sk-serial::before {content: \"\";position: absolute;border-left: 1px solid gray;box-sizing: border-box;top: 0;bottom: 0;left: 50%;z-index: 0;}#sk-container-id-3 div.sk-serial {display: flex;flex-direction: column;align-items: center;background-color: white;padding-right: 0.2em;padding-left: 0.2em;position: relative;}#sk-container-id-3 div.sk-item {position: relative;z-index: 1;}#sk-container-id-3 div.sk-parallel {display: flex;align-items: stretch;justify-content: center;background-color: white;position: relative;}#sk-container-id-3 div.sk-item::before, #sk-container-id-3 div.sk-parallel-item::before {content: \"\";position: absolute;border-left: 1px solid gray;box-sizing: border-box;top: 0;bottom: 0;left: 50%;z-index: -1;}#sk-container-id-3 div.sk-parallel-item {display: flex;flex-direction: column;z-index: 1;position: relative;background-color: white;}#sk-container-id-3 div.sk-parallel-item:first-child::after {align-self: flex-end;width: 50%;}#sk-container-id-3 div.sk-parallel-item:last-child::after {align-self: flex-start;width: 50%;}#sk-container-id-3 div.sk-parallel-item:only-child::after {width: 0;}#sk-container-id-3 div.sk-dashed-wrapped {border: 1px dashed gray;margin: 0 0.4em 0.5em 0.4em;box-sizing: border-box;padding-bottom: 0.4em;background-color: white;}#sk-container-id-3 div.sk-label label {font-family: monospace;font-weight: bold;display: inline-block;line-height: 1.2em;}#sk-container-id-3 div.sk-label-container {text-align: center;}#sk-container-id-3 div.sk-container {/* jupyter's `normalize.less` sets `[hidden] { display: none; }` but bootstrap.min.css set `[hidden] { display: none !important; }` so we also need the `!important` here to be able to override the default hidden behavior on the sphinx rendered scikit-learn.org. See: https://github.com/scikit-learn/scikit-learn/issues/21755 */display: inline-block !important;position: relative;}#sk-container-id-3 div.sk-text-repr-fallback {display: none;}</style><div id=\"sk-container-id-3\" class=\"sk-top-container\"><div class=\"sk-text-repr-fallback\"><pre>KNeighborsClassifier(metric=&#x27;euclidean&#x27;, n_neighbors=12)</pre><b>In a Jupyter environment, please rerun this cell to show the HTML representation or trust the notebook. <br />On GitHub, the HTML representation is unable to render, please try loading this page with nbviewer.org.</b></div><div class=\"sk-container\" hidden><div class=\"sk-item\"><div class=\"sk-estimator sk-toggleable\"><input class=\"sk-toggleable__control sk-hidden--visually\" id=\"sk-estimator-id-3\" type=\"checkbox\" checked><label for=\"sk-estimator-id-3\" class=\"sk-toggleable__label sk-toggleable__label-arrow\">KNeighborsClassifier</label><div class=\"sk-toggleable__content\"><pre>KNeighborsClassifier(metric=&#x27;euclidean&#x27;, n_neighbors=12)</pre></div></div></div></div></div>"
      ],
      "text/plain": [
       "KNeighborsClassifier(metric='euclidean', n_neighbors=12)"
      ]
     },
     "execution_count": 34,
     "metadata": {},
     "output_type": "execute_result"
    }
   ],
   "source": [
    "# Training the model\n",
    "from sklearn.neighbors import KNeighborsClassifier\n",
    "model_knn = KNeighborsClassifier(n_neighbors=12,metric='euclidean') # Maximum accuracy for n=10\n",
    "model_knn.fit(X_train,y_train)"
   ]
  },
  {
   "cell_type": "code",
   "execution_count": 35,
   "id": "448cefdf",
   "metadata": {},
   "outputs": [],
   "source": [
    "# Predicting the model\n",
    "y_predict_knn = model_knn.predict(X_test)"
   ]
  },
  {
   "cell_type": "code",
   "execution_count": 36,
   "id": "f31a05f7",
   "metadata": {},
   "outputs": [
    {
     "name": "stdout",
     "output_type": "stream",
     "text": [
      "0.8116149334859104\n",
      "              precision    recall  f1-score   support\n",
      "\n",
      "         1.0       0.00      0.00      0.00         1\n",
      "         2.0       0.52      0.66      0.58       210\n",
      "         3.0       0.63      0.63      0.63      1581\n",
      "         4.0       0.81      0.88      0.84      7254\n",
      "         5.0       0.90      0.78      0.83      4936\n",
      "\n",
      "    accuracy                           0.81     13982\n",
      "   macro avg       0.57      0.59      0.58     13982\n",
      "weighted avg       0.82      0.81      0.81     13982\n",
      "\n"
     ]
    }
   ],
   "source": [
    "# Finding accuracy, precision, recall and confusion matrix\n",
    "print(accuracy_score(y_test,y_predict_knn))\n",
    "print(classification_report(y_test,y_predict_knn))"
   ]
  },
  {
   "cell_type": "code",
   "execution_count": 37,
   "id": "f7330c5a",
   "metadata": {},
   "outputs": [
    {
     "data": {
      "text/plain": [
       "array([[   0,    0,    0,    1,    0],\n",
       "       [   0,  138,    9,   45,   18],\n",
       "       [   0,   37,  991,  429,  124],\n",
       "       [   0,   79,  487, 6382,  306],\n",
       "       [   0,   10,   79, 1010, 3837]], dtype=int64)"
      ]
     },
     "execution_count": 37,
     "metadata": {},
     "output_type": "execute_result"
    }
   ],
   "source": [
    "confusion_matrix(y_test,y_predict_knn)"
   ]
  },
  {
   "cell_type": "markdown",
   "id": "26d84dd1",
   "metadata": {},
   "source": [
    "# 5. Artificial Neural Network"
   ]
  },
  {
   "cell_type": "code",
   "execution_count": 38,
   "id": "5588ecfa",
   "metadata": {},
   "outputs": [
    {
     "data": {
      "text/html": [
       "<style>#sk-container-id-4 {color: black;}#sk-container-id-4 pre{padding: 0;}#sk-container-id-4 div.sk-toggleable {background-color: white;}#sk-container-id-4 label.sk-toggleable__label {cursor: pointer;display: block;width: 100%;margin-bottom: 0;padding: 0.3em;box-sizing: border-box;text-align: center;}#sk-container-id-4 label.sk-toggleable__label-arrow:before {content: \"▸\";float: left;margin-right: 0.25em;color: #696969;}#sk-container-id-4 label.sk-toggleable__label-arrow:hover:before {color: black;}#sk-container-id-4 div.sk-estimator:hover label.sk-toggleable__label-arrow:before {color: black;}#sk-container-id-4 div.sk-toggleable__content {max-height: 0;max-width: 0;overflow: hidden;text-align: left;background-color: #f0f8ff;}#sk-container-id-4 div.sk-toggleable__content pre {margin: 0.2em;color: black;border-radius: 0.25em;background-color: #f0f8ff;}#sk-container-id-4 input.sk-toggleable__control:checked~div.sk-toggleable__content {max-height: 200px;max-width: 100%;overflow: auto;}#sk-container-id-4 input.sk-toggleable__control:checked~label.sk-toggleable__label-arrow:before {content: \"▾\";}#sk-container-id-4 div.sk-estimator input.sk-toggleable__control:checked~label.sk-toggleable__label {background-color: #d4ebff;}#sk-container-id-4 div.sk-label input.sk-toggleable__control:checked~label.sk-toggleable__label {background-color: #d4ebff;}#sk-container-id-4 input.sk-hidden--visually {border: 0;clip: rect(1px 1px 1px 1px);clip: rect(1px, 1px, 1px, 1px);height: 1px;margin: -1px;overflow: hidden;padding: 0;position: absolute;width: 1px;}#sk-container-id-4 div.sk-estimator {font-family: monospace;background-color: #f0f8ff;border: 1px dotted black;border-radius: 0.25em;box-sizing: border-box;margin-bottom: 0.5em;}#sk-container-id-4 div.sk-estimator:hover {background-color: #d4ebff;}#sk-container-id-4 div.sk-parallel-item::after {content: \"\";width: 100%;border-bottom: 1px solid gray;flex-grow: 1;}#sk-container-id-4 div.sk-label:hover label.sk-toggleable__label {background-color: #d4ebff;}#sk-container-id-4 div.sk-serial::before {content: \"\";position: absolute;border-left: 1px solid gray;box-sizing: border-box;top: 0;bottom: 0;left: 50%;z-index: 0;}#sk-container-id-4 div.sk-serial {display: flex;flex-direction: column;align-items: center;background-color: white;padding-right: 0.2em;padding-left: 0.2em;position: relative;}#sk-container-id-4 div.sk-item {position: relative;z-index: 1;}#sk-container-id-4 div.sk-parallel {display: flex;align-items: stretch;justify-content: center;background-color: white;position: relative;}#sk-container-id-4 div.sk-item::before, #sk-container-id-4 div.sk-parallel-item::before {content: \"\";position: absolute;border-left: 1px solid gray;box-sizing: border-box;top: 0;bottom: 0;left: 50%;z-index: -1;}#sk-container-id-4 div.sk-parallel-item {display: flex;flex-direction: column;z-index: 1;position: relative;background-color: white;}#sk-container-id-4 div.sk-parallel-item:first-child::after {align-self: flex-end;width: 50%;}#sk-container-id-4 div.sk-parallel-item:last-child::after {align-self: flex-start;width: 50%;}#sk-container-id-4 div.sk-parallel-item:only-child::after {width: 0;}#sk-container-id-4 div.sk-dashed-wrapped {border: 1px dashed gray;margin: 0 0.4em 0.5em 0.4em;box-sizing: border-box;padding-bottom: 0.4em;background-color: white;}#sk-container-id-4 div.sk-label label {font-family: monospace;font-weight: bold;display: inline-block;line-height: 1.2em;}#sk-container-id-4 div.sk-label-container {text-align: center;}#sk-container-id-4 div.sk-container {/* jupyter's `normalize.less` sets `[hidden] { display: none; }` but bootstrap.min.css set `[hidden] { display: none !important; }` so we also need the `!important` here to be able to override the default hidden behavior on the sphinx rendered scikit-learn.org. See: https://github.com/scikit-learn/scikit-learn/issues/21755 */display: inline-block !important;position: relative;}#sk-container-id-4 div.sk-text-repr-fallback {display: none;}</style><div id=\"sk-container-id-4\" class=\"sk-top-container\"><div class=\"sk-text-repr-fallback\"><pre>MLPClassifier()</pre><b>In a Jupyter environment, please rerun this cell to show the HTML representation or trust the notebook. <br />On GitHub, the HTML representation is unable to render, please try loading this page with nbviewer.org.</b></div><div class=\"sk-container\" hidden><div class=\"sk-item\"><div class=\"sk-estimator sk-toggleable\"><input class=\"sk-toggleable__control sk-hidden--visually\" id=\"sk-estimator-id-4\" type=\"checkbox\" checked><label for=\"sk-estimator-id-4\" class=\"sk-toggleable__label sk-toggleable__label-arrow\">MLPClassifier</label><div class=\"sk-toggleable__content\"><pre>MLPClassifier()</pre></div></div></div></div></div>"
      ],
      "text/plain": [
       "MLPClassifier()"
      ]
     },
     "execution_count": 38,
     "metadata": {},
     "output_type": "execute_result"
    }
   ],
   "source": [
    "# Training the model\n",
    "from sklearn.neural_network import MLPClassifier\n",
    "model_mlp = MLPClassifier()\n",
    "model_mlp.fit(X_train,y_train)"
   ]
  },
  {
   "cell_type": "code",
   "execution_count": 39,
   "id": "e8bee8d4",
   "metadata": {},
   "outputs": [],
   "source": [
    "# Predicting the model\n",
    "y_predict_mlp = model_mlp.predict(X_test)"
   ]
  },
  {
   "cell_type": "code",
   "execution_count": 40,
   "id": "9ee5d1e8",
   "metadata": {},
   "outputs": [
    {
     "name": "stdout",
     "output_type": "stream",
     "text": [
      "0.7650550708053211\n",
      "              precision    recall  f1-score   support\n",
      "\n",
      "         1.0       0.00      0.00      0.00         1\n",
      "         2.0       0.52      0.65      0.58       210\n",
      "         3.0       0.60      0.35      0.44      1581\n",
      "         4.0       0.74      0.90      0.81      7254\n",
      "         5.0       0.88      0.71      0.79      4936\n",
      "\n",
      "    accuracy                           0.77     13982\n",
      "   macro avg       0.55      0.52      0.52     13982\n",
      "weighted avg       0.77      0.77      0.76     13982\n",
      "\n"
     ]
    }
   ],
   "source": [
    "# Finding accuracy, precision, recall and confusion matrix\n",
    "print(accuracy_score(y_test,y_predict_mlp))\n",
    "print(classification_report(y_test,y_predict_mlp))"
   ]
  },
  {
   "cell_type": "code",
   "execution_count": 41,
   "id": "bf578941",
   "metadata": {},
   "outputs": [
    {
     "data": {
      "text/plain": [
       "array([[   0,    0,    0,    1,    0],\n",
       "       [   0,  137,    6,   57,   10],\n",
       "       [   0,   36,  551,  887,  107],\n",
       "       [   0,   78,  304, 6493,  379],\n",
       "       [   0,   10,   59, 1351, 3516]], dtype=int64)"
      ]
     },
     "execution_count": 41,
     "metadata": {},
     "output_type": "execute_result"
    }
   ],
   "source": [
    "confusion_matrix(y_test,y_predict_mlp)"
   ]
  },
  {
   "cell_type": "code",
   "execution_count": 42,
   "id": "fbb10a41",
   "metadata": {},
   "outputs": [
    {
     "data": {
      "text/plain": [
       "['Predicting_Priority.ml']"
      ]
     },
     "execution_count": 42,
     "metadata": {},
     "output_type": "execute_result"
    }
   ],
   "source": [
    "# Exporting the trained model\n",
    "joblib.dump(model_rf,'Predicting_Priority.ml')"
   ]
  },
  {
   "cell_type": "markdown",
   "id": "fdd72a34",
   "metadata": {},
   "source": [
    "# 2. Predicting Request For Change (RFC)"
   ]
  },
  {
   "cell_type": "markdown",
   "id": "bcdc6742",
   "metadata": {},
   "source": [
    "# Feature Selection"
   ]
  },
  {
   "cell_type": "code",
   "execution_count": 43,
   "id": "99ff2832",
   "metadata": {},
   "outputs": [],
   "source": [
    "# Selecting the predictors\n",
    "X1 = data.loc[:,['CI_Subcat','WBS','Priority','Category','No_of_Related_Interactions','No_of_Related_Incidents']]\n",
    "y1 = data.No_of_Related_Changes"
   ]
  },
  {
   "cell_type": "code",
   "execution_count": 44,
   "id": "6c7ce76e",
   "metadata": {},
   "outputs": [
    {
     "data": {
      "text/html": [
       "<div>\n",
       "<style scoped>\n",
       "    .dataframe tbody tr th:only-of-type {\n",
       "        vertical-align: middle;\n",
       "    }\n",
       "\n",
       "    .dataframe tbody tr th {\n",
       "        vertical-align: top;\n",
       "    }\n",
       "\n",
       "    .dataframe thead th {\n",
       "        text-align: right;\n",
       "    }\n",
       "</style>\n",
       "<table border=\"1\" class=\"dataframe\">\n",
       "  <thead>\n",
       "    <tr style=\"text-align: right;\">\n",
       "      <th></th>\n",
       "      <th>CI_Subcat</th>\n",
       "      <th>WBS</th>\n",
       "      <th>Priority</th>\n",
       "      <th>Category</th>\n",
       "      <th>No_of_Related_Interactions</th>\n",
       "      <th>No_of_Related_Incidents</th>\n",
       "    </tr>\n",
       "  </thead>\n",
       "  <tbody>\n",
       "    <tr>\n",
       "      <th>0</th>\n",
       "      <td>Web Based Application</td>\n",
       "      <td>WBS000162</td>\n",
       "      <td>4.0</td>\n",
       "      <td>incident</td>\n",
       "      <td>1.0</td>\n",
       "      <td>2.0</td>\n",
       "    </tr>\n",
       "    <tr>\n",
       "      <th>1</th>\n",
       "      <td>Web Based Application</td>\n",
       "      <td>WBS000088</td>\n",
       "      <td>3.0</td>\n",
       "      <td>incident</td>\n",
       "      <td>1.0</td>\n",
       "      <td>1.0</td>\n",
       "    </tr>\n",
       "    <tr>\n",
       "      <th>2</th>\n",
       "      <td>Desktop Application</td>\n",
       "      <td>WBS000092</td>\n",
       "      <td>4.0</td>\n",
       "      <td>request for information</td>\n",
       "      <td>1.0</td>\n",
       "      <td>0.0</td>\n",
       "    </tr>\n",
       "    <tr>\n",
       "      <th>3</th>\n",
       "      <td>Web Based Application</td>\n",
       "      <td>WBS000088</td>\n",
       "      <td>4.0</td>\n",
       "      <td>incident</td>\n",
       "      <td>1.0</td>\n",
       "      <td>0.0</td>\n",
       "    </tr>\n",
       "    <tr>\n",
       "      <th>4</th>\n",
       "      <td>Web Based Application</td>\n",
       "      <td>WBS000088</td>\n",
       "      <td>4.0</td>\n",
       "      <td>incident</td>\n",
       "      <td>1.0</td>\n",
       "      <td>0.0</td>\n",
       "    </tr>\n",
       "  </tbody>\n",
       "</table>\n",
       "</div>"
      ],
      "text/plain": [
       "               CI_Subcat        WBS  Priority                 Category  \\\n",
       "0  Web Based Application  WBS000162       4.0                 incident   \n",
       "1  Web Based Application  WBS000088       3.0                 incident   \n",
       "2    Desktop Application  WBS000092       4.0  request for information   \n",
       "3  Web Based Application  WBS000088       4.0                 incident   \n",
       "4  Web Based Application  WBS000088       4.0                 incident   \n",
       "\n",
       "   No_of_Related_Interactions  No_of_Related_Incidents  \n",
       "0                         1.0                      2.0  \n",
       "1                         1.0                      1.0  \n",
       "2                         1.0                      0.0  \n",
       "3                         1.0                      0.0  \n",
       "4                         1.0                      0.0  "
      ]
     },
     "execution_count": 44,
     "metadata": {},
     "output_type": "execute_result"
    }
   ],
   "source": [
    "X1.head()"
   ]
  },
  {
   "cell_type": "code",
   "execution_count": 45,
   "id": "8b364029",
   "metadata": {},
   "outputs": [],
   "source": [
    "enc= LabelEncoder()\n",
    "for i in (0,1,3,4):\n",
    "    X1.iloc[:,i] = enc.fit_transform(X1.iloc[:,i])"
   ]
  },
  {
   "cell_type": "code",
   "execution_count": 46,
   "id": "e3ea809d",
   "metadata": {},
   "outputs": [],
   "source": [
    "# Splitting into train and test for calculating the accuracy\n",
    "X1_train, X1_test, y1_train, y1_test = train_test_split(X1,y1,test_size=0.3,random_state=10)"
   ]
  },
  {
   "cell_type": "code",
   "execution_count": 47,
   "id": "f8e98606",
   "metadata": {},
   "outputs": [],
   "source": [
    "# Standardization technique is used\n",
    "sc = StandardScaler()\n",
    "X1_train = sc.fit_transform(X1_train)\n",
    "X1_test = sc.transform(X1_test)"
   ]
  },
  {
   "cell_type": "code",
   "execution_count": 48,
   "id": "c8cb20f9",
   "metadata": {},
   "outputs": [
    {
     "data": {
      "text/plain": [
       "(32624, 6)"
      ]
     },
     "execution_count": 48,
     "metadata": {},
     "output_type": "execute_result"
    }
   ],
   "source": [
    "X1_train.shape"
   ]
  },
  {
   "cell_type": "code",
   "execution_count": 49,
   "id": "c5ce019c",
   "metadata": {},
   "outputs": [
    {
     "data": {
      "text/plain": [
       "(13982, 6)"
      ]
     },
     "execution_count": 49,
     "metadata": {},
     "output_type": "execute_result"
    }
   ],
   "source": [
    "X1_test.shape"
   ]
  },
  {
   "cell_type": "markdown",
   "id": "8aeb4fde",
   "metadata": {},
   "source": [
    "# Models"
   ]
  },
  {
   "cell_type": "markdown",
   "id": "5099c236",
   "metadata": {},
   "source": [
    "# 1. Decision Tree"
   ]
  },
  {
   "cell_type": "code",
   "execution_count": 50,
   "id": "9befd089",
   "metadata": {},
   "outputs": [
    {
     "data": {
      "text/html": [
       "<style>#sk-container-id-5 {color: black;}#sk-container-id-5 pre{padding: 0;}#sk-container-id-5 div.sk-toggleable {background-color: white;}#sk-container-id-5 label.sk-toggleable__label {cursor: pointer;display: block;width: 100%;margin-bottom: 0;padding: 0.3em;box-sizing: border-box;text-align: center;}#sk-container-id-5 label.sk-toggleable__label-arrow:before {content: \"▸\";float: left;margin-right: 0.25em;color: #696969;}#sk-container-id-5 label.sk-toggleable__label-arrow:hover:before {color: black;}#sk-container-id-5 div.sk-estimator:hover label.sk-toggleable__label-arrow:before {color: black;}#sk-container-id-5 div.sk-toggleable__content {max-height: 0;max-width: 0;overflow: hidden;text-align: left;background-color: #f0f8ff;}#sk-container-id-5 div.sk-toggleable__content pre {margin: 0.2em;color: black;border-radius: 0.25em;background-color: #f0f8ff;}#sk-container-id-5 input.sk-toggleable__control:checked~div.sk-toggleable__content {max-height: 200px;max-width: 100%;overflow: auto;}#sk-container-id-5 input.sk-toggleable__control:checked~label.sk-toggleable__label-arrow:before {content: \"▾\";}#sk-container-id-5 div.sk-estimator input.sk-toggleable__control:checked~label.sk-toggleable__label {background-color: #d4ebff;}#sk-container-id-5 div.sk-label input.sk-toggleable__control:checked~label.sk-toggleable__label {background-color: #d4ebff;}#sk-container-id-5 input.sk-hidden--visually {border: 0;clip: rect(1px 1px 1px 1px);clip: rect(1px, 1px, 1px, 1px);height: 1px;margin: -1px;overflow: hidden;padding: 0;position: absolute;width: 1px;}#sk-container-id-5 div.sk-estimator {font-family: monospace;background-color: #f0f8ff;border: 1px dotted black;border-radius: 0.25em;box-sizing: border-box;margin-bottom: 0.5em;}#sk-container-id-5 div.sk-estimator:hover {background-color: #d4ebff;}#sk-container-id-5 div.sk-parallel-item::after {content: \"\";width: 100%;border-bottom: 1px solid gray;flex-grow: 1;}#sk-container-id-5 div.sk-label:hover label.sk-toggleable__label {background-color: #d4ebff;}#sk-container-id-5 div.sk-serial::before {content: \"\";position: absolute;border-left: 1px solid gray;box-sizing: border-box;top: 0;bottom: 0;left: 50%;z-index: 0;}#sk-container-id-5 div.sk-serial {display: flex;flex-direction: column;align-items: center;background-color: white;padding-right: 0.2em;padding-left: 0.2em;position: relative;}#sk-container-id-5 div.sk-item {position: relative;z-index: 1;}#sk-container-id-5 div.sk-parallel {display: flex;align-items: stretch;justify-content: center;background-color: white;position: relative;}#sk-container-id-5 div.sk-item::before, #sk-container-id-5 div.sk-parallel-item::before {content: \"\";position: absolute;border-left: 1px solid gray;box-sizing: border-box;top: 0;bottom: 0;left: 50%;z-index: -1;}#sk-container-id-5 div.sk-parallel-item {display: flex;flex-direction: column;z-index: 1;position: relative;background-color: white;}#sk-container-id-5 div.sk-parallel-item:first-child::after {align-self: flex-end;width: 50%;}#sk-container-id-5 div.sk-parallel-item:last-child::after {align-self: flex-start;width: 50%;}#sk-container-id-5 div.sk-parallel-item:only-child::after {width: 0;}#sk-container-id-5 div.sk-dashed-wrapped {border: 1px dashed gray;margin: 0 0.4em 0.5em 0.4em;box-sizing: border-box;padding-bottom: 0.4em;background-color: white;}#sk-container-id-5 div.sk-label label {font-family: monospace;font-weight: bold;display: inline-block;line-height: 1.2em;}#sk-container-id-5 div.sk-label-container {text-align: center;}#sk-container-id-5 div.sk-container {/* jupyter's `normalize.less` sets `[hidden] { display: none; }` but bootstrap.min.css set `[hidden] { display: none !important; }` so we also need the `!important` here to be able to override the default hidden behavior on the sphinx rendered scikit-learn.org. See: https://github.com/scikit-learn/scikit-learn/issues/21755 */display: inline-block !important;position: relative;}#sk-container-id-5 div.sk-text-repr-fallback {display: none;}</style><div id=\"sk-container-id-5\" class=\"sk-top-container\"><div class=\"sk-text-repr-fallback\"><pre>DecisionTreeClassifier()</pre><b>In a Jupyter environment, please rerun this cell to show the HTML representation or trust the notebook. <br />On GitHub, the HTML representation is unable to render, please try loading this page with nbviewer.org.</b></div><div class=\"sk-container\" hidden><div class=\"sk-item\"><div class=\"sk-estimator sk-toggleable\"><input class=\"sk-toggleable__control sk-hidden--visually\" id=\"sk-estimator-id-5\" type=\"checkbox\" checked><label for=\"sk-estimator-id-5\" class=\"sk-toggleable__label sk-toggleable__label-arrow\">DecisionTreeClassifier</label><div class=\"sk-toggleable__content\"><pre>DecisionTreeClassifier()</pre></div></div></div></div></div>"
      ],
      "text/plain": [
       "DecisionTreeClassifier()"
      ]
     },
     "execution_count": 50,
     "metadata": {},
     "output_type": "execute_result"
    }
   ],
   "source": [
    "# Training the model\n",
    "from sklearn.tree import DecisionTreeClassifier\n",
    "model1_dtree=DecisionTreeClassifier()\n",
    "model1_dtree.fit(X1_train,y1_train)"
   ]
  },
  {
   "cell_type": "code",
   "execution_count": 51,
   "id": "933798a3",
   "metadata": {},
   "outputs": [],
   "source": [
    "# Predicting the model\n",
    "y1_predict_dtree = model1_dtree.predict(X1_test)"
   ]
  },
  {
   "cell_type": "code",
   "execution_count": 52,
   "id": "5642c941",
   "metadata": {},
   "outputs": [
    {
     "name": "stdout",
     "output_type": "stream",
     "text": [
      "0.9886997568302103\n",
      "              precision    recall  f1-score   support\n",
      "\n",
      "         0.0       0.99      1.00      0.99     13835\n",
      "         1.0       0.24      0.03      0.05       138\n",
      "         2.0       0.00      0.00      0.00         8\n",
      "         3.0       0.00      0.00      0.00         1\n",
      "         9.0       0.00      0.00      0.00         0\n",
      "\n",
      "    accuracy                           0.99     13982\n",
      "   macro avg       0.25      0.21      0.21     13982\n",
      "weighted avg       0.98      0.99      0.98     13982\n",
      "\n"
     ]
    }
   ],
   "source": [
    "# Finding accuracy, precision, recall and confusion matrix\n",
    "print(accuracy_score(y1_test,y1_predict_dtree))\n",
    "print(classification_report(y1_test,y1_predict_dtree))"
   ]
  },
  {
   "cell_type": "code",
   "execution_count": 53,
   "id": "3a71cc45",
   "metadata": {},
   "outputs": [
    {
     "data": {
      "text/plain": [
       "array([[13820,    13,     1,     0,     1],\n",
       "       [  134,     4,     0,     0,     0],\n",
       "       [    8,     0,     0,     0,     0],\n",
       "       [    1,     0,     0,     0,     0],\n",
       "       [    0,     0,     0,     0,     0]], dtype=int64)"
      ]
     },
     "execution_count": 53,
     "metadata": {},
     "output_type": "execute_result"
    }
   ],
   "source": [
    "confusion_matrix(y1_test,y1_predict_dtree)"
   ]
  },
  {
   "cell_type": "markdown",
   "id": "978fef66",
   "metadata": {},
   "source": [
    "# 2. Random Forest"
   ]
  },
  {
   "cell_type": "code",
   "execution_count": 54,
   "id": "7657011e",
   "metadata": {},
   "outputs": [
    {
     "data": {
      "text/html": [
       "<style>#sk-container-id-6 {color: black;}#sk-container-id-6 pre{padding: 0;}#sk-container-id-6 div.sk-toggleable {background-color: white;}#sk-container-id-6 label.sk-toggleable__label {cursor: pointer;display: block;width: 100%;margin-bottom: 0;padding: 0.3em;box-sizing: border-box;text-align: center;}#sk-container-id-6 label.sk-toggleable__label-arrow:before {content: \"▸\";float: left;margin-right: 0.25em;color: #696969;}#sk-container-id-6 label.sk-toggleable__label-arrow:hover:before {color: black;}#sk-container-id-6 div.sk-estimator:hover label.sk-toggleable__label-arrow:before {color: black;}#sk-container-id-6 div.sk-toggleable__content {max-height: 0;max-width: 0;overflow: hidden;text-align: left;background-color: #f0f8ff;}#sk-container-id-6 div.sk-toggleable__content pre {margin: 0.2em;color: black;border-radius: 0.25em;background-color: #f0f8ff;}#sk-container-id-6 input.sk-toggleable__control:checked~div.sk-toggleable__content {max-height: 200px;max-width: 100%;overflow: auto;}#sk-container-id-6 input.sk-toggleable__control:checked~label.sk-toggleable__label-arrow:before {content: \"▾\";}#sk-container-id-6 div.sk-estimator input.sk-toggleable__control:checked~label.sk-toggleable__label {background-color: #d4ebff;}#sk-container-id-6 div.sk-label input.sk-toggleable__control:checked~label.sk-toggleable__label {background-color: #d4ebff;}#sk-container-id-6 input.sk-hidden--visually {border: 0;clip: rect(1px 1px 1px 1px);clip: rect(1px, 1px, 1px, 1px);height: 1px;margin: -1px;overflow: hidden;padding: 0;position: absolute;width: 1px;}#sk-container-id-6 div.sk-estimator {font-family: monospace;background-color: #f0f8ff;border: 1px dotted black;border-radius: 0.25em;box-sizing: border-box;margin-bottom: 0.5em;}#sk-container-id-6 div.sk-estimator:hover {background-color: #d4ebff;}#sk-container-id-6 div.sk-parallel-item::after {content: \"\";width: 100%;border-bottom: 1px solid gray;flex-grow: 1;}#sk-container-id-6 div.sk-label:hover label.sk-toggleable__label {background-color: #d4ebff;}#sk-container-id-6 div.sk-serial::before {content: \"\";position: absolute;border-left: 1px solid gray;box-sizing: border-box;top: 0;bottom: 0;left: 50%;z-index: 0;}#sk-container-id-6 div.sk-serial {display: flex;flex-direction: column;align-items: center;background-color: white;padding-right: 0.2em;padding-left: 0.2em;position: relative;}#sk-container-id-6 div.sk-item {position: relative;z-index: 1;}#sk-container-id-6 div.sk-parallel {display: flex;align-items: stretch;justify-content: center;background-color: white;position: relative;}#sk-container-id-6 div.sk-item::before, #sk-container-id-6 div.sk-parallel-item::before {content: \"\";position: absolute;border-left: 1px solid gray;box-sizing: border-box;top: 0;bottom: 0;left: 50%;z-index: -1;}#sk-container-id-6 div.sk-parallel-item {display: flex;flex-direction: column;z-index: 1;position: relative;background-color: white;}#sk-container-id-6 div.sk-parallel-item:first-child::after {align-self: flex-end;width: 50%;}#sk-container-id-6 div.sk-parallel-item:last-child::after {align-self: flex-start;width: 50%;}#sk-container-id-6 div.sk-parallel-item:only-child::after {width: 0;}#sk-container-id-6 div.sk-dashed-wrapped {border: 1px dashed gray;margin: 0 0.4em 0.5em 0.4em;box-sizing: border-box;padding-bottom: 0.4em;background-color: white;}#sk-container-id-6 div.sk-label label {font-family: monospace;font-weight: bold;display: inline-block;line-height: 1.2em;}#sk-container-id-6 div.sk-label-container {text-align: center;}#sk-container-id-6 div.sk-container {/* jupyter's `normalize.less` sets `[hidden] { display: none; }` but bootstrap.min.css set `[hidden] { display: none !important; }` so we also need the `!important` here to be able to override the default hidden behavior on the sphinx rendered scikit-learn.org. See: https://github.com/scikit-learn/scikit-learn/issues/21755 */display: inline-block !important;position: relative;}#sk-container-id-6 div.sk-text-repr-fallback {display: none;}</style><div id=\"sk-container-id-6\" class=\"sk-top-container\"><div class=\"sk-text-repr-fallback\"><pre>RandomForestClassifier()</pre><b>In a Jupyter environment, please rerun this cell to show the HTML representation or trust the notebook. <br />On GitHub, the HTML representation is unable to render, please try loading this page with nbviewer.org.</b></div><div class=\"sk-container\" hidden><div class=\"sk-item\"><div class=\"sk-estimator sk-toggleable\"><input class=\"sk-toggleable__control sk-hidden--visually\" id=\"sk-estimator-id-6\" type=\"checkbox\" checked><label for=\"sk-estimator-id-6\" class=\"sk-toggleable__label sk-toggleable__label-arrow\">RandomForestClassifier</label><div class=\"sk-toggleable__content\"><pre>RandomForestClassifier()</pre></div></div></div></div></div>"
      ],
      "text/plain": [
       "RandomForestClassifier()"
      ]
     },
     "execution_count": 54,
     "metadata": {},
     "output_type": "execute_result"
    }
   ],
   "source": [
    "# Training the model\n",
    "from sklearn.ensemble import RandomForestClassifier\n",
    "model1_rf = RandomForestClassifier()\n",
    "model1_rf.fit(X1_train,y1_train)"
   ]
  },
  {
   "cell_type": "code",
   "execution_count": 55,
   "id": "f4a1394b",
   "metadata": {},
   "outputs": [],
   "source": [
    "# Predicting the model\n",
    "y1_predict_rf = model1_rf.predict(X1_test)"
   ]
  },
  {
   "cell_type": "code",
   "execution_count": 56,
   "id": "fc514edd",
   "metadata": {},
   "outputs": [
    {
     "name": "stdout",
     "output_type": "stream",
     "text": [
      "0.9891288799885567\n",
      "              precision    recall  f1-score   support\n",
      "\n",
      "         0.0       0.99      1.00      0.99     13835\n",
      "         1.0       0.27      0.02      0.04       138\n",
      "         2.0       0.00      0.00      0.00         8\n",
      "         3.0       0.00      0.00      0.00         1\n",
      "\n",
      "    accuracy                           0.99     13982\n",
      "   macro avg       0.32      0.26      0.26     13982\n",
      "weighted avg       0.98      0.99      0.98     13982\n",
      "\n"
     ]
    }
   ],
   "source": [
    "# Finding accuracy, precision, recall and confusion matrix\n",
    "print(accuracy_score(y1_test,y1_predict_rf))\n",
    "print(classification_report(y1_test,y1_predict_rf))"
   ]
  },
  {
   "cell_type": "code",
   "execution_count": 57,
   "id": "fad615bc",
   "metadata": {},
   "outputs": [
    {
     "data": {
      "text/plain": [
       "array([[13827,     8,     0,     0],\n",
       "       [  135,     3,     0,     0],\n",
       "       [    8,     0,     0,     0],\n",
       "       [    1,     0,     0,     0]], dtype=int64)"
      ]
     },
     "execution_count": 57,
     "metadata": {},
     "output_type": "execute_result"
    }
   ],
   "source": [
    "confusion_matrix(y1_test,y1_predict_rf)"
   ]
  },
  {
   "cell_type": "code",
   "execution_count": 58,
   "id": "f8e4b437",
   "metadata": {},
   "outputs": [
    {
     "data": {
      "text/plain": [
       "['Predict_RFC.ml']"
      ]
     },
     "execution_count": 58,
     "metadata": {},
     "output_type": "execute_result"
    }
   ],
   "source": [
    "# Exporting the trained model\n",
    "joblib.dump(model1_dtree,'Predict_RFC.ml')"
   ]
  },
  {
   "cell_type": "markdown",
   "id": "1bc32bf2",
   "metadata": {},
   "source": [
    "# 3. Forecasting the Incident Volume"
   ]
  },
  {
   "cell_type": "code",
   "execution_count": 59,
   "id": "43113c48",
   "metadata": {},
   "outputs": [],
   "source": [
    "# Imporing the necessary columns\n",
    "incfrq = data.loc[:,['Incident_ID','Open_Time']]"
   ]
  },
  {
   "cell_type": "code",
   "execution_count": 60,
   "id": "54314dc1",
   "metadata": {},
   "outputs": [
    {
     "data": {
      "text/html": [
       "<div>\n",
       "<style scoped>\n",
       "    .dataframe tbody tr th:only-of-type {\n",
       "        vertical-align: middle;\n",
       "    }\n",
       "\n",
       "    .dataframe tbody tr th {\n",
       "        vertical-align: top;\n",
       "    }\n",
       "\n",
       "    .dataframe thead th {\n",
       "        text-align: right;\n",
       "    }\n",
       "</style>\n",
       "<table border=\"1\" class=\"dataframe\">\n",
       "  <thead>\n",
       "    <tr style=\"text-align: right;\">\n",
       "      <th></th>\n",
       "      <th>Incident_ID</th>\n",
       "      <th>Open_Time</th>\n",
       "    </tr>\n",
       "  </thead>\n",
       "  <tbody>\n",
       "    <tr>\n",
       "      <th>0</th>\n",
       "      <td>IM0000004</td>\n",
       "      <td>05-02-2012 13:32</td>\n",
       "    </tr>\n",
       "    <tr>\n",
       "      <th>1</th>\n",
       "      <td>IM0000005</td>\n",
       "      <td>12-03-2012 15:44</td>\n",
       "    </tr>\n",
       "    <tr>\n",
       "      <th>2</th>\n",
       "      <td>IM0000006</td>\n",
       "      <td>29-03-2012 12:36</td>\n",
       "    </tr>\n",
       "    <tr>\n",
       "      <th>3</th>\n",
       "      <td>IM0000011</td>\n",
       "      <td>17-07-2012 11:49</td>\n",
       "    </tr>\n",
       "    <tr>\n",
       "      <th>4</th>\n",
       "      <td>IM0000012</td>\n",
       "      <td>10-08-2012 11:01</td>\n",
       "    </tr>\n",
       "  </tbody>\n",
       "</table>\n",
       "</div>"
      ],
      "text/plain": [
       "  Incident_ID         Open_Time\n",
       "0   IM0000004  05-02-2012 13:32\n",
       "1   IM0000005  12-03-2012 15:44\n",
       "2   IM0000006  29-03-2012 12:36\n",
       "3   IM0000011  17-07-2012 11:49\n",
       "4   IM0000012  10-08-2012 11:01"
      ]
     },
     "execution_count": 60,
     "metadata": {},
     "output_type": "execute_result"
    }
   ],
   "source": [
    "incfrq.head()"
   ]
  },
  {
   "cell_type": "markdown",
   "id": "9505a69a",
   "metadata": {},
   "source": [
    "## Data Processing / Data Munging"
   ]
  },
  {
   "cell_type": "code",
   "execution_count": 61,
   "id": "72834cbc",
   "metadata": {},
   "outputs": [],
   "source": [
    "# Coverting all the values in proper Datetime format\n",
    "for i in range(len(incfrq.Open_Time)):\n",
    "    if (incfrq.Open_Time[i][1]=='/'):\n",
    "        incfrq.Open_Time[i] = dt.datetime.strptime(incfrq.Open_Time[i],'%d/%m/%Y %H:%M').date()\n",
    "    elif (incfrq.Open_Time[i][2]=='/'):\n",
    "        incfrq.Open_Time[i] = dt.datetime.strptime(incfrq.Open_Time[i],'%d/%m/%Y %H:%M').date()\n",
    "    else:\n",
    "        incfrq.Open_Time[i] = dt.datetime.strptime(incfrq.Open_Time[i],'%d-%m-%Y %H:%M').date()"
   ]
  },
  {
   "cell_type": "code",
   "execution_count": 62,
   "id": "0e572742",
   "metadata": {},
   "outputs": [
    {
     "data": {
      "text/html": [
       "<div>\n",
       "<style scoped>\n",
       "    .dataframe tbody tr th:only-of-type {\n",
       "        vertical-align: middle;\n",
       "    }\n",
       "\n",
       "    .dataframe tbody tr th {\n",
       "        vertical-align: top;\n",
       "    }\n",
       "\n",
       "    .dataframe thead th {\n",
       "        text-align: right;\n",
       "    }\n",
       "</style>\n",
       "<table border=\"1\" class=\"dataframe\">\n",
       "  <thead>\n",
       "    <tr style=\"text-align: right;\">\n",
       "      <th></th>\n",
       "      <th>Incident_ID</th>\n",
       "      <th>Open_Time</th>\n",
       "    </tr>\n",
       "  </thead>\n",
       "  <tbody>\n",
       "    <tr>\n",
       "      <th>0</th>\n",
       "      <td>IM0000004</td>\n",
       "      <td>2012-02-05</td>\n",
       "    </tr>\n",
       "    <tr>\n",
       "      <th>1</th>\n",
       "      <td>IM0000005</td>\n",
       "      <td>2012-03-12</td>\n",
       "    </tr>\n",
       "    <tr>\n",
       "      <th>2</th>\n",
       "      <td>IM0000006</td>\n",
       "      <td>2012-03-29</td>\n",
       "    </tr>\n",
       "    <tr>\n",
       "      <th>3</th>\n",
       "      <td>IM0000011</td>\n",
       "      <td>2012-07-17</td>\n",
       "    </tr>\n",
       "    <tr>\n",
       "      <th>4</th>\n",
       "      <td>IM0000012</td>\n",
       "      <td>2012-08-10</td>\n",
       "    </tr>\n",
       "  </tbody>\n",
       "</table>\n",
       "</div>"
      ],
      "text/plain": [
       "  Incident_ID   Open_Time\n",
       "0   IM0000004  2012-02-05\n",
       "1   IM0000005  2012-03-12\n",
       "2   IM0000006  2012-03-29\n",
       "3   IM0000011  2012-07-17\n",
       "4   IM0000012  2012-08-10"
      ]
     },
     "execution_count": 62,
     "metadata": {},
     "output_type": "execute_result"
    }
   ],
   "source": [
    "incfrq.head()"
   ]
  },
  {
   "cell_type": "code",
   "execution_count": 63,
   "id": "4b0a78a5",
   "metadata": {},
   "outputs": [],
   "source": [
    "# Adding a new column which will have the number of tickets per day\n",
    "incfrq['No_Incidents'] = incfrq.groupby('Open_Time')['Incident_ID'].transform('count')"
   ]
  },
  {
   "cell_type": "code",
   "execution_count": 64,
   "id": "e355d65b",
   "metadata": {},
   "outputs": [],
   "source": [
    "incfrq.drop(['Incident_ID'],axis=1,inplace=True)\n",
    "incfrq.drop_duplicates(inplace=True)"
   ]
  },
  {
   "cell_type": "code",
   "execution_count": 65,
   "id": "bbe0b6e1",
   "metadata": {},
   "outputs": [
    {
     "data": {
      "text/html": [
       "<div>\n",
       "<style scoped>\n",
       "    .dataframe tbody tr th:only-of-type {\n",
       "        vertical-align: middle;\n",
       "    }\n",
       "\n",
       "    .dataframe tbody tr th {\n",
       "        vertical-align: top;\n",
       "    }\n",
       "\n",
       "    .dataframe thead th {\n",
       "        text-align: right;\n",
       "    }\n",
       "</style>\n",
       "<table border=\"1\" class=\"dataframe\">\n",
       "  <thead>\n",
       "    <tr style=\"text-align: right;\">\n",
       "      <th></th>\n",
       "      <th>Open_Time</th>\n",
       "      <th>No_Incidents</th>\n",
       "    </tr>\n",
       "  </thead>\n",
       "  <tbody>\n",
       "    <tr>\n",
       "      <th>0</th>\n",
       "      <td>2012-02-05</td>\n",
       "      <td>1</td>\n",
       "    </tr>\n",
       "    <tr>\n",
       "      <th>1</th>\n",
       "      <td>2012-03-12</td>\n",
       "      <td>1</td>\n",
       "    </tr>\n",
       "    <tr>\n",
       "      <th>2</th>\n",
       "      <td>2012-03-29</td>\n",
       "      <td>1</td>\n",
       "    </tr>\n",
       "    <tr>\n",
       "      <th>3</th>\n",
       "      <td>2012-07-17</td>\n",
       "      <td>1</td>\n",
       "    </tr>\n",
       "    <tr>\n",
       "      <th>4</th>\n",
       "      <td>2012-08-10</td>\n",
       "      <td>2</td>\n",
       "    </tr>\n",
       "  </tbody>\n",
       "</table>\n",
       "</div>"
      ],
      "text/plain": [
       "    Open_Time  No_Incidents\n",
       "0  2012-02-05             1\n",
       "1  2012-03-12             1\n",
       "2  2012-03-29             1\n",
       "3  2012-07-17             1\n",
       "4  2012-08-10             2"
      ]
     },
     "execution_count": 65,
     "metadata": {},
     "output_type": "execute_result"
    }
   ],
   "source": [
    "incfrq.head()"
   ]
  },
  {
   "cell_type": "code",
   "execution_count": 66,
   "id": "92a75a5f",
   "metadata": {},
   "outputs": [
    {
     "data": {
      "text/plain": [
       "DatetimeIndex(['2012-02-05', '2012-03-12', '2012-03-29', '2012-07-17',\n",
       "               '2012-08-10', '2012-08-15', '2012-08-22', '2012-08-29',\n",
       "               '2012-09-03', '2012-09-21',\n",
       "               ...\n",
       "               '2014-03-22', '2014-03-24', '2014-03-23', '2014-03-25',\n",
       "               '2014-03-26', '2014-03-27', '2014-03-28', '2014-03-29',\n",
       "               '2014-03-30', '2014-03-31'],\n",
       "              dtype='datetime64[ns]', name='Open_Time', length=331, freq=None)"
      ]
     },
     "execution_count": 66,
     "metadata": {},
     "output_type": "execute_result"
    }
   ],
   "source": [
    "# Setting Date as the Index\n",
    "incfrq = incfrq.set_index('Open_Time')\n",
    "incfrq.index = pd.to_datetime(incfrq.index)\n",
    "incfrq.index"
   ]
  },
  {
   "cell_type": "code",
   "execution_count": 67,
   "id": "b3b18462",
   "metadata": {},
   "outputs": [
    {
     "data": {
      "text/html": [
       "<div>\n",
       "<style scoped>\n",
       "    .dataframe tbody tr th:only-of-type {\n",
       "        vertical-align: middle;\n",
       "    }\n",
       "\n",
       "    .dataframe tbody tr th {\n",
       "        vertical-align: top;\n",
       "    }\n",
       "\n",
       "    .dataframe thead th {\n",
       "        text-align: right;\n",
       "    }\n",
       "</style>\n",
       "<table border=\"1\" class=\"dataframe\">\n",
       "  <thead>\n",
       "    <tr style=\"text-align: right;\">\n",
       "      <th></th>\n",
       "      <th>No_Incidents</th>\n",
       "    </tr>\n",
       "    <tr>\n",
       "      <th>Open_Time</th>\n",
       "      <th></th>\n",
       "    </tr>\n",
       "  </thead>\n",
       "  <tbody>\n",
       "    <tr>\n",
       "      <th>2012-02-05</th>\n",
       "      <td>1</td>\n",
       "    </tr>\n",
       "    <tr>\n",
       "      <th>2012-03-12</th>\n",
       "      <td>1</td>\n",
       "    </tr>\n",
       "    <tr>\n",
       "      <th>2012-03-29</th>\n",
       "      <td>1</td>\n",
       "    </tr>\n",
       "    <tr>\n",
       "      <th>2012-07-17</th>\n",
       "      <td>1</td>\n",
       "    </tr>\n",
       "    <tr>\n",
       "      <th>2012-08-10</th>\n",
       "      <td>2</td>\n",
       "    </tr>\n",
       "  </tbody>\n",
       "</table>\n",
       "</div>"
      ],
      "text/plain": [
       "            No_Incidents\n",
       "Open_Time               \n",
       "2012-02-05             1\n",
       "2012-03-12             1\n",
       "2012-03-29             1\n",
       "2012-07-17             1\n",
       "2012-08-10             2"
      ]
     },
     "execution_count": 67,
     "metadata": {},
     "output_type": "execute_result"
    }
   ],
   "source": [
    "incfrq.head()"
   ]
  },
  {
   "cell_type": "code",
   "execution_count": 68,
   "id": "af6fbb48",
   "metadata": {},
   "outputs": [
    {
     "name": "stdout",
     "output_type": "stream",
     "text": [
      "2012-02-05 00:00:00 to 2014-03-31 00:00:00\n"
     ]
    }
   ],
   "source": [
    "# Checking range of dates for our values\n",
    "print(incfrq.index.min(),'to',incfrq.index.max())"
   ]
  },
  {
   "cell_type": "code",
   "execution_count": 69,
   "id": "382580ef",
   "metadata": {},
   "outputs": [
    {
     "data": {
      "text/plain": [
       "DatetimeIndex(['2012-02-05', '2012-02-06', '2012-02-07', '2012-02-08',\n",
       "               '2012-02-09', '2012-02-10', '2012-02-11', '2012-02-12',\n",
       "               '2012-02-13', '2012-02-14',\n",
       "               ...\n",
       "               '2014-03-22', '2014-03-23', '2014-03-24', '2014-03-25',\n",
       "               '2014-03-26', '2014-03-27', '2014-03-28', '2014-03-29',\n",
       "               '2014-03-30', '2014-03-31'],\n",
       "              dtype='datetime64[ns]', name='Open_Time', length=786, freq='D')"
      ]
     },
     "execution_count": 69,
     "metadata": {},
     "output_type": "execute_result"
    }
   ],
   "source": [
    "# Making a new Series with frequency as Day\n",
    "data1 = incfrq['No_Incidents']\n",
    "data1 = data1.asfreq('D')\n",
    "data1.index"
   ]
  },
  {
   "cell_type": "code",
   "execution_count": 70,
   "id": "36f00b80",
   "metadata": {},
   "outputs": [
    {
     "data": {
      "text/plain": [
       "Open_Time\n",
       "2012-02-05    1.0\n",
       "2012-02-06    NaN\n",
       "2012-02-07    NaN\n",
       "2012-02-08    NaN\n",
       "2012-02-09    NaN\n",
       "Freq: D, Name: No_Incidents, dtype: float64"
      ]
     },
     "execution_count": 70,
     "metadata": {},
     "output_type": "execute_result"
    }
   ],
   "source": [
    "data1.head()"
   ]
  },
  {
   "cell_type": "code",
   "execution_count": 71,
   "id": "da958671",
   "metadata": {},
   "outputs": [
    {
     "data": {
      "image/png": "[encoded data removed]",
      "text/plain": [
       "<Figure size 1500x600 with 1 Axes>"
      ]
     },
     "metadata": {},
     "output_type": "display_data"
    }
   ],
   "source": [
    "# Plotting number of tickets per day\n",
    "data1.plot(figsize=(15,6))\n",
    "plt.show()"
   ]
  },
  {
   "cell_type": "markdown",
   "id": "084796ba",
   "metadata": {},
   "source": [
    "# Our Insights:\n",
    "* As We can see in this graph the tickets started to increased from 2013\n",
    "* before 2013 their is no tickets increaments "
   ]
  },
  {
   "cell_type": "code",
   "execution_count": 72,
   "id": "fb757bd3",
   "metadata": {},
   "outputs": [],
   "source": [
    "# Since not many tickets before October 2013, we consider only the latter values\n",
    "incfrom2013 = incfrq[incfrq.index > dt.datetime(2013,10,1)]"
   ]
  },
  {
   "cell_type": "code",
   "execution_count": 73,
   "id": "cb3f72a7",
   "metadata": {},
   "outputs": [
    {
     "data": {
      "text/html": [
       "<div>\n",
       "<style scoped>\n",
       "    .dataframe tbody tr th:only-of-type {\n",
       "        vertical-align: middle;\n",
       "    }\n",
       "\n",
       "    .dataframe tbody tr th {\n",
       "        vertical-align: top;\n",
       "    }\n",
       "\n",
       "    .dataframe thead th {\n",
       "        text-align: right;\n",
       "    }\n",
       "</style>\n",
       "<table border=\"1\" class=\"dataframe\">\n",
       "  <thead>\n",
       "    <tr style=\"text-align: right;\">\n",
       "      <th></th>\n",
       "      <th>No_Incidents</th>\n",
       "    </tr>\n",
       "    <tr>\n",
       "      <th>Open_Time</th>\n",
       "      <th></th>\n",
       "    </tr>\n",
       "  </thead>\n",
       "  <tbody>\n",
       "    <tr>\n",
       "      <th>2013-10-02</th>\n",
       "      <td>412</td>\n",
       "    </tr>\n",
       "    <tr>\n",
       "      <th>2013-10-03</th>\n",
       "      <td>455</td>\n",
       "    </tr>\n",
       "    <tr>\n",
       "      <th>2013-10-04</th>\n",
       "      <td>345</td>\n",
       "    </tr>\n",
       "    <tr>\n",
       "      <th>2013-10-07</th>\n",
       "      <td>456</td>\n",
       "    </tr>\n",
       "    <tr>\n",
       "      <th>2013-10-05</th>\n",
       "      <td>6</td>\n",
       "    </tr>\n",
       "  </tbody>\n",
       "</table>\n",
       "</div>"
      ],
      "text/plain": [
       "            No_Incidents\n",
       "Open_Time               \n",
       "2013-10-02           412\n",
       "2013-10-03           455\n",
       "2013-10-04           345\n",
       "2013-10-07           456\n",
       "2013-10-05             6"
      ]
     },
     "execution_count": 73,
     "metadata": {},
     "output_type": "execute_result"
    }
   ],
   "source": [
    "incfrom2013.head()"
   ]
  },
  {
   "cell_type": "code",
   "execution_count": 74,
   "id": "4db5571e",
   "metadata": {},
   "outputs": [
    {
     "data": {
      "text/plain": [
       "DatetimeIndex(['2013-10-02', '2013-10-03', '2013-10-04', '2013-10-05',\n",
       "               '2013-10-06', '2013-10-07', '2013-10-08', '2013-10-09',\n",
       "               '2013-10-10', '2013-10-11',\n",
       "               ...\n",
       "               '2014-03-22', '2014-03-23', '2014-03-24', '2014-03-25',\n",
       "               '2014-03-26', '2014-03-27', '2014-03-28', '2014-03-29',\n",
       "               '2014-03-30', '2014-03-31'],\n",
       "              dtype='datetime64[ns]', name='Open_Time', length=181, freq='D')"
      ]
     },
     "execution_count": 74,
     "metadata": {},
     "output_type": "execute_result"
    }
   ],
   "source": [
    "# new Series\n",
    "data2 = incfrom2013['No_Incidents']\n",
    "data2 = data2.asfreq('D')\n",
    "data2.index"
   ]
  },
  {
   "cell_type": "code",
   "execution_count": 75,
   "id": "8bf3bb7c",
   "metadata": {},
   "outputs": [
    {
     "data": {
      "image/png": "[encoded data removed]",
      "text/plain": [
       "<Figure size 1500x600 with 1 Axes>"
      ]
     },
     "metadata": {},
     "output_type": "display_data"
    }
   ],
   "source": [
    "# Plotting number of tickets per day after October 2013\n",
    "data2.plot(figsize=(15,6))\n",
    "plt.show()"
   ]
  },
  {
   "cell_type": "markdown",
   "id": "d454074e",
   "metadata": {},
   "source": [
    "# Our Insigths:\n",
    "* As we sawed on top the total tickets per day but in this graph we can see the tickets \n",
    "* in this we have taken only 2014 tickets \n",
    "* in this graph we can see the tickets are more in month of november end and december starting its almost crossed 500\n",
    "* in month of jan we can see tickets is reduced almost its less then 200"
   ]
  },
  {
   "cell_type": "code",
   "execution_count": 76,
   "id": "33fa9cce",
   "metadata": {},
   "outputs": [],
   "source": [
    "# Making a list of values for p,d & q\n",
    "p = d = q = range(0,2)\n",
    "pdq = list(itertools.product(p,d,q))"
   ]
  },
  {
   "cell_type": "code",
   "execution_count": 77,
   "id": "6c8511ca",
   "metadata": {},
   "outputs": [
    {
     "name": "stdout",
     "output_type": "stream",
     "text": [
      "ARIMA(0, 0, 0) - AIC:2539.6180293605685\n",
      "ARIMA(0, 0, 1) - AIC:2373.785382472242\n",
      "ARIMA(0, 1, 0) - AIC:2371.128960804689\n",
      "ARIMA(0, 1, 1) - AIC:2313.136333805366\n",
      "ARIMA(1, 0, 0) - AIC:2365.291646936565\n",
      "ARIMA(1, 0, 1) - AIC:2337.312508693354\n",
      "ARIMA(1, 1, 0) - AIC:2373.128068065154\n",
      "ARIMA(1, 1, 1) - AIC:2294.431581243656\n"
     ]
    }
   ],
   "source": [
    "# Checking the AIC values per pairs\n",
    "for param in pdq:\n",
    "    mod = sm.tsa.statespace.SARIMAX(data2,order=param,enforce_stationarity=False,enforce_invertibility=False)\n",
    "    results = mod.fit()\n",
    "    print('ARIMA{} - AIC:{}'.format(param, results.aic))"
   ]
  },
  {
   "cell_type": "code",
   "execution_count": 78,
   "id": "eed0c578",
   "metadata": {},
   "outputs": [
    {
     "name": "stdout",
     "output_type": "stream",
     "text": [
      "==============================================================================\n",
      "                 coef    std err          z      P>|z|      [0.025      0.975]\n",
      "------------------------------------------------------------------------------\n",
      "ar.L1          0.3386      0.090      3.771      0.000       0.163       0.515\n",
      "ma.L1         -0.9989      0.428     -2.332      0.020      -1.839      -0.159\n",
      "sigma2       2.52e+04   9781.741      2.576      0.010    6023.495    4.44e+04\n",
      "==============================================================================\n"
     ]
    }
   ],
   "source": [
    "# Choosing the model with minimum AIC and the ARIMA Model for Time Series Forecasting\n",
    "mod = sm.tsa.statespace.SARIMAX(data2,order=(1,1,1))\n",
    "results = mod.fit()\n",
    "print(results.summary().tables[1])"
   ]
  },
  {
   "cell_type": "code",
   "execution_count": 79,
   "id": "6152c174",
   "metadata": {},
   "outputs": [
    {
     "data": {
      "text/plain": [
       "2014-03-03    172.0\n",
       "2014-03-04    266.0\n",
       "2014-03-05    279.0\n",
       "2014-03-06    272.0\n",
       "2014-03-07    291.0\n",
       "              ...  \n",
       "2014-10-26    252.0\n",
       "2014-10-27    252.0\n",
       "2014-10-28    252.0\n",
       "2014-10-29    252.0\n",
       "2014-10-30    252.0\n",
       "Freq: D, Name: predicted_mean, Length: 242, dtype: float64"
      ]
     },
     "execution_count": 79,
     "metadata": {},
     "output_type": "execute_result"
    }
   ],
   "source": [
    "# Predicting the future values and the confidence interval\n",
    "pred = results.get_prediction(start=pd.to_datetime('2014-3-3'),end=pd.to_datetime('2014-10-30'),dynamic=False)\n",
    "pred_ci = pred.conf_int()\n",
    "pred.predicted_mean.round()"
   ]
  },
  {
   "cell_type": "markdown",
   "id": "50ee3474",
   "metadata": {},
   "source": [
    "# Visualization"
   ]
  },
  {
   "cell_type": "code",
   "execution_count": 80,
   "id": "efbb9381",
   "metadata": {},
   "outputs": [
    {
     "data": {
      "image/png": "[encoded data removed]",
      "text/plain": [
       "<Figure size 1500x600 with 1 Axes>"
      ]
     },
     "metadata": {},
     "output_type": "display_data"
    }
   ],
   "source": [
    "ax = data2['2013':].plot(label='observed')\n",
    "pred.predicted_mean.plot(ax=ax,label='One-step ahead Forecast',figsize=(15, 6))\n",
    "ax.fill_between(pred_ci.index,pred_ci.iloc[:,0],pred_ci.iloc[:,1],color='grey',alpha=0.3)\n",
    "ax.set_xlabel('Date')\n",
    "ax.set_ylabel('No of Incidents')\n",
    "plt.legend()\n",
    "plt.show()"
   ]
  },
  {
   "cell_type": "markdown",
   "id": "35436a33",
   "metadata": {},
   "source": [
    "# Our Insights:\n",
    "* The graph shows here for visualization \n",
    "* in this we have mentioned the date and the no of incidents happened in months "
   ]
  },
  {
   "cell_type": "markdown",
   "id": "0526db6c",
   "metadata": {},
   "source": [
    "# Model Comparison Report"
   ]
  },
  {
   "cell_type": "markdown",
   "id": "b9ff657e",
   "metadata": {},
   "source": [
    "* For This ITPL Dataset We Have used Machine learning and deep learning models during their implementation of this project implementation. Some of these models are K-Nearest neighbor (KNN), Decision tree, Support vector machine (SVM), and many more.¶\n",
    "* In This We Have Built Two Predicting Models in That We have implemented some meodels \n",
    "* After Completion Of Project We Would Like To Suggests Decision Tree And Random Forest"
   ]
  },
  {
   "cell_type": "markdown",
   "id": "1eb57bb4",
   "metadata": {},
   "source": [
    "# Report on Challenges faced\n",
    "## The challenges we faced during this project are as follows:\n",
    "* The ITPL Dataset Is A huge Dataset \n",
    "* The dataset contained lots of extreme outliers in some features of the dataset which was giving us incorrect results; we had   to handle these outliers by making a separate function and run the function on those features.\n",
    "* In This Project We Have Predicted Two Types "
   ]
  },
  {
   "cell_type": "markdown",
   "id": "81a08209",
   "metadata": {},
   "source": [
    "# Conclusion"
   ]
  },
  {
   "cell_type": "markdown",
   "id": "30756dbe",
   "metadata": {},
   "source": [
    " * the integration of machine learning within the Information Technology Project Lifecycle (ITPL) represents a pivotal step forward in our organization's pursuit of innovation, efficiency, and competitive advantage. By infusing machine learning capabilities into our project management processes, we are not merely embracing a technological trend, but strategically positioning ourselves to harness the power of data-driven insights and automation.\n",
    "\n",
    "* The utilization of machine learning within ITPL promises to revolutionize how we approach project planning, execution, and optimization. The predictive analytics offered by machine learning algorithms will empower us to make informed decisions, identify potential risks, and allocate resources with a precision that was previously unattainable. This predictive prowess will not only enhance the accuracy of project timelines but also contribute to a proactive risk management strategy, reducing unforeseen challenges and delays.\n",
    "\n",
    "* Furthermore, the automation capabilities inherent in machine learning will significantly streamline routine tasks, freeing up valuable human resources to focus on more complex and creative aspects of project delivery. This operational efficiency, coupled with the ability to adapt and learn from historical project data, positions us to drive continuous improvement and innovation in our project management practices.\n",
    "\n",
    "* From a strategic perspective, the integration of machine learning into ITPL aligns seamlessly with our commitment to staying at the forefront of technological advancements. It signals to stakeholders, clients, and competitors alike that we are dedicated to leveraging cutting-edge technologies to deliver superior project outcomes. This not only enhances our brand image but also opens up new avenues for business growth and client satisfaction.\n",
    "\n",
    "* In essence, the integration of machine learning within the ITPL framework is not just a technological upgrade; it is a strategic imperative that propels us into a future where data-driven insights and intelligent automation are indispensable components of successful project management. Through this initiative, we position ourselves to be leaders in our industry, driving innovation, reducing costs, and delivering projects with unparalleled efficiency. The benefits far outweigh the costs, making this endeavor a cornerstone of our journey towards a more agile, adaptive, and technologically advanced organization.\""
   ]
  },
  {
   "cell_type": "code",
   "execution_count": null,
   "id": "15233c2e",
   "metadata": {},
   "outputs": [],
   "source": []
  }
 ],
 "metadata": {
  "kernelspec": {
   "display_name": "Python 3 (ipykernel)",
   "language": "python",
   "name": "python3"
  },
  "language_info": {
   "codemirror_mode": {
    "name": "ipython",
    "version": 3
   },
   "file_extension": ".py",
   "mimetype": "text/x-python",
   "name": "python",
   "nbconvert_exporter": "python",
   "pygments_lexer": "ipython3",
   "version": "3.10.9"
  }
 },
 "nbformat": 4,
 "nbformat_minor": 5
}
